{
 "cells": [
  {
   "cell_type": "markdown",
   "metadata": {},
   "source": [
    "This notebook demonstrates how to leverage transfer learning to use your own image dataset to build and train an image classification model using MXNet and Amazon SageMaker."
   ]
  },
  {
   "cell_type": "markdown",
   "metadata": {},
   "source": [
    "We use, as an example, the creation of a trash classification model which, given some image, classifies it into one of three classes: compost, landfill, recycle. This is based on the [Show Before You Throw](https://www.youtube.com/watch?v=Ut1VGG6TOOw) project from an AWS DeepLens hackathon"
   ]
  },
  {
   "cell_type": "markdown",
   "metadata": {},
   "source": [
    "# Part 1: Prepare training and validation data as RecordIO files"
   ]
  },
  {
   "cell_type": "markdown",
   "metadata": {},
   "source": [
    "It is assumed that your custom dataset's images are present in an S3 bucket and that different classes are separated by named folders, as shown in the following directory structure:\n",
    "```\n",
    "|-deeplens-bucket\n",
    "\n",
    "    |-images\n",
    "    \n",
    "        |-Compost \n",
    "    \n",
    "        |-Landfill\n",
    "    \n",
    "        |-Recycle\n",
    " ```"
   ]
  },
  {
   "cell_type": "markdown",
   "metadata": {},
   "source": [
    "#### This section has been adapted from this [mxnet-examples repository](https://github.com/sharmalakshay93/mxnet-examples/tree/master/custom_dataset) and the [MXNet API documentation](https://mxnet.incubator.apache.org/api/python/io/io.html#mxnet.recordio.MXIndexedRecordIO)"
   ]
  },
  {
   "cell_type": "markdown",
   "metadata": {},
   "source": [
    "#### Import relevant modules"
   ]
  },
  {
   "cell_type": "code",
   "execution_count": 1,
   "metadata": {
    "collapsed": true
   },
   "outputs": [],
   "source": [
    "import os\n",
    "import urllib.request\n",
    "import boto3"
   ]
  },
  {
   "cell_type": "markdown",
   "metadata": {},
   "source": [
    "####  Download image data from S3 to the notebook instance's local storage\n",
    "\n",
    "Note: the code below will download all the data/objects in the bucket. Adjust the s3 path parameter accordingly if your bucket contains other objects that are irrelevant to this task"
   ]
  },
  {
   "cell_type": "code",
   "execution_count": 2,
   "metadata": {},
   "outputs": [
    {
     "name": "stdout",
     "output_type": "stream",
     "text": [
      "download: s3://deeplens-blog-bucket/images/Compost/20180403-195616.jpg to deeplens-blog-bucket/images/Compost/20180403-195616.jpg\n",
      "download: s3://deeplens-blog-bucket/images/Compost/20180403-195643.jpg to deeplens-blog-bucket/images/Compost/20180403-195643.jpg\n",
      "download: s3://deeplens-blog-bucket/images/Compost/20180403-195651.jpg to deeplens-blog-bucket/images/Compost/20180403-195651.jpg\n",
      "download: s3://deeplens-blog-bucket/images/Compost/20180403-195736.jpg to deeplens-blog-bucket/images/Compost/20180403-195736.jpg\n",
      "download: s3://deeplens-blog-bucket/images/Compost/20180403-195729.jpg to deeplens-blog-bucket/images/Compost/20180403-195729.jpg\n",
      "download: s3://deeplens-blog-bucket/images/Compost/20180403-195833.jpg to deeplens-blog-bucket/images/Compost/20180403-195833.jpg\n",
      "download: s3://deeplens-blog-bucket/images/Compost/20180403-195701.jpg to deeplens-blog-bucket/images/Compost/20180403-195701.jpg\n",
      "download: s3://deeplens-blog-bucket/images/Compost/20180403-195746.jpg to deeplens-blog-bucket/images/Compost/20180403-195746.jpg\n",
      "download: s3://deeplens-blog-bucket/images/Compost/20180403-195757.jpg to deeplens-blog-bucket/images/Compost/20180403-195757.jpg\n",
      "download: s3://deeplens-blog-bucket/images/Compost/20180403-195840.jpg to deeplens-blog-bucket/images/Compost/20180403-195840.jpg\n",
      "download: s3://deeplens-blog-bucket/images/Compost/20180403-195848.jpg to deeplens-blog-bucket/images/Compost/20180403-195848.jpg\n",
      "download: s3://deeplens-blog-bucket/images/Compost/20180403-195913.jpg to deeplens-blog-bucket/images/Compost/20180403-195913.jpg\n",
      "download: s3://deeplens-blog-bucket/images/Compost/20180403-195858.jpg to deeplens-blog-bucket/images/Compost/20180403-195858.jpg\n",
      "download: s3://deeplens-blog-bucket/images/Compost/20180403-195711.jpg to deeplens-blog-bucket/images/Compost/20180403-195711.jpg\n",
      "download: s3://deeplens-blog-bucket/images/Compost/20180403-195810.jpg to deeplens-blog-bucket/images/Compost/20180403-195810.jpg\n",
      "download: s3://deeplens-blog-bucket/images/Compost/20180403-195932.jpg to deeplens-blog-bucket/images/Compost/20180403-195932.jpg\n",
      "download: s3://deeplens-blog-bucket/images/Compost/20180403-195941.jpg to deeplens-blog-bucket/images/Compost/20180403-195941.jpg\n",
      "download: s3://deeplens-blog-bucket/images/Compost/20180403-200105.jpg to deeplens-blog-bucket/images/Compost/20180403-200105.jpg\n",
      "download: s3://deeplens-blog-bucket/images/Compost/20180403-200125.jpg to deeplens-blog-bucket/images/Compost/20180403-200125.jpg\n",
      "download: s3://deeplens-blog-bucket/images/Compost/20180403-200241.jpg to deeplens-blog-bucket/images/Compost/20180403-200241.jpg\n",
      "download: s3://deeplens-blog-bucket/images/Compost/20180403-200255.jpg to deeplens-blog-bucket/images/Compost/20180403-200255.jpg\n",
      "download: s3://deeplens-blog-bucket/images/Compost/20180403-200055.jpg to deeplens-blog-bucket/images/Compost/20180403-200055.jpg\n",
      "download: s3://deeplens-blog-bucket/images/Compost/20180403-200308.jpg to deeplens-blog-bucket/images/Compost/20180403-200308.jpg\n",
      "download: s3://deeplens-blog-bucket/images/Compost/20180403-200332.jpg to deeplens-blog-bucket/images/Compost/20180403-200332.jpg\n",
      "download: s3://deeplens-blog-bucket/images/Compost/20180403-200319.jpg to deeplens-blog-bucket/images/Compost/20180403-200319.jpg\n",
      "download: s3://deeplens-blog-bucket/images/Compost/20180403-200344.jpg to deeplens-blog-bucket/images/Compost/20180403-200344.jpg\n",
      "download: s3://deeplens-blog-bucket/images/Compost/20180403-200356.jpg to deeplens-blog-bucket/images/Compost/20180403-200356.jpg\n",
      "download: s3://deeplens-blog-bucket/images/Compost/20180403-200423.jpg to deeplens-blog-bucket/images/Compost/20180403-200423.jpg\n",
      "download: s3://deeplens-blog-bucket/images/Compost/20180403-200432.jpg to deeplens-blog-bucket/images/Compost/20180403-200432.jpg\n",
      "download: s3://deeplens-blog-bucket/images/Compost/20180403-200217.jpg to deeplens-blog-bucket/images/Compost/20180403-200217.jpg\n",
      "download: s3://deeplens-blog-bucket/images/Compost/20180403-200502.jpg to deeplens-blog-bucket/images/Compost/20180403-200502.jpg\n",
      "download: s3://deeplens-blog-bucket/images/Compost/20180403-200204.jpg to deeplens-blog-bucket/images/Compost/20180403-200204.jpg\n",
      "download: s3://deeplens-blog-bucket/images/Compost/20180403-200606.jpg to deeplens-blog-bucket/images/Compost/20180403-200606.jpg\n",
      "download: s3://deeplens-blog-bucket/images/Compost/20180403-200446.jpg to deeplens-blog-bucket/images/Compost/20180403-200446.jpg\n",
      "download: s3://deeplens-blog-bucket/images/Compost/20180403-200516.jpg to deeplens-blog-bucket/images/Compost/20180403-200516.jpg\n",
      "download: s3://deeplens-blog-bucket/images/Compost/20180403-200230.jpg to deeplens-blog-bucket/images/Compost/20180403-200230.jpg\n",
      "download: s3://deeplens-blog-bucket/images/Compost/20180403-200708.jpg to deeplens-blog-bucket/images/Compost/20180403-200708.jpg\n",
      "download: s3://deeplens-blog-bucket/images/Compost/20180403-200540.jpg to deeplens-blog-bucket/images/Compost/20180403-200540.jpg\n",
      "download: s3://deeplens-blog-bucket/images/Compost/20180404-145342.jpg to deeplens-blog-bucket/images/Compost/20180404-145342.jpg\n",
      "download: s3://deeplens-blog-bucket/images/Compost/20180403-200738.jpg to deeplens-blog-bucket/images/Compost/20180403-200738.jpg\n",
      "download: s3://deeplens-blog-bucket/images/Compost/20180404-145441.jpg to deeplens-blog-bucket/images/Compost/20180404-145441.jpg\n",
      "download: s3://deeplens-blog-bucket/images/Compost/20180403-200720.jpg to deeplens-blog-bucket/images/Compost/20180403-200720.jpg\n",
      "download: s3://deeplens-blog-bucket/images/Compost/20180404-145458.jpg to deeplens-blog-bucket/images/Compost/20180404-145458.jpg\n",
      "download: s3://deeplens-blog-bucket/images/Compost/20180403-200749.jpg to deeplens-blog-bucket/images/Compost/20180403-200749.jpg\n",
      "download: s3://deeplens-blog-bucket/images/Compost/20180404-145509.jpg to deeplens-blog-bucket/images/Compost/20180404-145509.jpg\n",
      "download: s3://deeplens-blog-bucket/images/Compost/20180403-200146.jpg to deeplens-blog-bucket/images/Compost/20180403-200146.jpg\n",
      "download: s3://deeplens-blog-bucket/images/Compost/20180404-145426.jpg to deeplens-blog-bucket/images/Compost/20180404-145426.jpg\n",
      "download: s3://deeplens-blog-bucket/images/Compost/20180404-145637.jpg to deeplens-blog-bucket/images/Compost/20180404-145637.jpg\n",
      "download: s3://deeplens-blog-bucket/images/Compost/20180404-145707.jpg to deeplens-blog-bucket/images/Compost/20180404-145707.jpg\n",
      "download: s3://deeplens-blog-bucket/images/Compost/20180404-145522.jpg to deeplens-blog-bucket/images/Compost/20180404-145522.jpg\n",
      "download: s3://deeplens-blog-bucket/images/Compost/20180404-145650.jpg to deeplens-blog-bucket/images/Compost/20180404-145650.jpg\n",
      "download: s3://deeplens-blog-bucket/images/Compost/20180404-145401.jpg to deeplens-blog-bucket/images/Compost/20180404-145401.jpg\n",
      "download: s3://deeplens-blog-bucket/images/Compost/20180404-145741.jpg to deeplens-blog-bucket/images/Compost/20180404-145741.jpg\n",
      "download: s3://deeplens-blog-bucket/images/Compost/20180404-145449.jpg to deeplens-blog-bucket/images/Compost/20180404-145449.jpg\n",
      "download: s3://deeplens-blog-bucket/images/Compost/20180404-145756.jpg to deeplens-blog-bucket/images/Compost/20180404-145756.jpg\n",
      "download: s3://deeplens-blog-bucket/images/Compost/20180404-145727.jpg to deeplens-blog-bucket/images/Compost/20180404-145727.jpg\n",
      "download: s3://deeplens-blog-bucket/images/Compost/20180404-145838.jpg to deeplens-blog-bucket/images/Compost/20180404-145838.jpg\n",
      "download: s3://deeplens-blog-bucket/images/Compost/20180404-145819.jpg to deeplens-blog-bucket/images/Compost/20180404-145819.jpg\n",
      "download: s3://deeplens-blog-bucket/images/Compost/20180404-145547.jpg to deeplens-blog-bucket/images/Compost/20180404-145547.jpg\n",
      "download: s3://deeplens-blog-bucket/images/Compost/20180404-150022.jpg to deeplens-blog-bucket/images/Compost/20180404-150022.jpg\n",
      "download: s3://deeplens-blog-bucket/images/Compost/20180404-145909.jpg to deeplens-blog-bucket/images/Compost/20180404-145909.jpg\n",
      "download: s3://deeplens-blog-bucket/images/Compost/20180404-150033.jpg to deeplens-blog-bucket/images/Compost/20180404-150033.jpg\n",
      "download: s3://deeplens-blog-bucket/images/Compost/20180404-145806.jpg to deeplens-blog-bucket/images/Compost/20180404-145806.jpg\n",
      "download: s3://deeplens-blog-bucket/images/Compost/20180404-145850.jpg to deeplens-blog-bucket/images/Compost/20180404-145850.jpg\n",
      "download: s3://deeplens-blog-bucket/images/Compost/20180404-150117.jpg to deeplens-blog-bucket/images/Compost/20180404-150117.jpg\n",
      "download: s3://deeplens-blog-bucket/images/Compost/20180404-150212.jpg to deeplens-blog-bucket/images/Compost/20180404-150212.jpg\n",
      "download: s3://deeplens-blog-bucket/images/Compost/20180404-150133.jpg to deeplens-blog-bucket/images/Compost/20180404-150133.jpg\n",
      "download: s3://deeplens-blog-bucket/images/Compost/20180404-150044.jpg to deeplens-blog-bucket/images/Compost/20180404-150044.jpg\n",
      "download: s3://deeplens-blog-bucket/images/Compost/20180404-150143.jpg to deeplens-blog-bucket/images/Compost/20180404-150143.jpg\n",
      "download: s3://deeplens-blog-bucket/images/Compost/20180404-150234.jpg to deeplens-blog-bucket/images/Compost/20180404-150234.jpg\n",
      "download: s3://deeplens-blog-bucket/images/Compost/20180404-145959.jpg to deeplens-blog-bucket/images/Compost/20180404-145959.jpg\n",
      "download: s3://deeplens-blog-bucket/images/Compost/20180404-150157.jpg to deeplens-blog-bucket/images/Compost/20180404-150157.jpg\n",
      "download: s3://deeplens-blog-bucket/images/Compost/20180404-152025.jpg to deeplens-blog-bucket/images/Compost/20180404-152025.jpg\n",
      "download: s3://deeplens-blog-bucket/images/Compost/20180404-150101.jpg to deeplens-blog-bucket/images/Compost/20180404-150101.jpg\n",
      "download: s3://deeplens-blog-bucket/images/Compost/20180404-151854.jpg to deeplens-blog-bucket/images/Compost/20180404-151854.jpg\n",
      "download: s3://deeplens-blog-bucket/images/Compost/20180404-151928.jpg to deeplens-blog-bucket/images/Compost/20180404-151928.jpg\n",
      "download: s3://deeplens-blog-bucket/images/Compost/20180404-151955.jpg to deeplens-blog-bucket/images/Compost/20180404-151955.jpg\n",
      "download: s3://deeplens-blog-bucket/images/Compost/20180404-152101.jpg to deeplens-blog-bucket/images/Compost/20180404-152101.jpg\n",
      "download: s3://deeplens-blog-bucket/images/Compost/20180404-151913.jpg to deeplens-blog-bucket/images/Compost/20180404-151913.jpg\n",
      "download: s3://deeplens-blog-bucket/images/Compost/20180404-151838.jpg to deeplens-blog-bucket/images/Compost/20180404-151838.jpg\n",
      "download: s3://deeplens-blog-bucket/images/Compost/20180404-152036.jpg to deeplens-blog-bucket/images/Compost/20180404-152036.jpg\n",
      "download: s3://deeplens-blog-bucket/images/Compost/20180404-152255.jpg to deeplens-blog-bucket/images/Compost/20180404-152255.jpg\n",
      "download: s3://deeplens-blog-bucket/images/Compost/20180404-152322.jpg to deeplens-blog-bucket/images/Compost/20180404-152322.jpg\n",
      "download: s3://deeplens-blog-bucket/images/Compost/20180404-152213.jpg to deeplens-blog-bucket/images/Compost/20180404-152213.jpg\n",
      "download: s3://deeplens-blog-bucket/images/Compost/20180404-152120.jpg to deeplens-blog-bucket/images/Compost/20180404-152120.jpg\n",
      "download: s3://deeplens-blog-bucket/images/Compost/20180404-152240.jpg to deeplens-blog-bucket/images/Compost/20180404-152240.jpg\n",
      "download: s3://deeplens-blog-bucket/images/Compost/20180404-152351.jpg to deeplens-blog-bucket/images/Compost/20180404-152351.jpg\n",
      "download: s3://deeplens-blog-bucket/images/Compost/20180404-152339.jpg to deeplens-blog-bucket/images/Compost/20180404-152339.jpg\n",
      "download: s3://deeplens-blog-bucket/images/Compost/20180404-152308.jpg to deeplens-blog-bucket/images/Compost/20180404-152308.jpg\n",
      "download: s3://deeplens-blog-bucket/images/Compost/20180404-152427.jpg to deeplens-blog-bucket/images/Compost/20180404-152427.jpg\n",
      "download: s3://deeplens-blog-bucket/images/Compost/20180404-152226.jpg to deeplens-blog-bucket/images/Compost/20180404-152226.jpg\n",
      "download: s3://deeplens-blog-bucket/images/Compost/20180404-152731.jpg to deeplens-blog-bucket/images/Compost/20180404-152731.jpg\n",
      "download: s3://deeplens-blog-bucket/images/Compost/20180404-152800.jpg to deeplens-blog-bucket/images/Compost/20180404-152800.jpg\n",
      "download: s3://deeplens-blog-bucket/images/Compost/20180404-152457.jpg to deeplens-blog-bucket/images/Compost/20180404-152457.jpg\n",
      "download: s3://deeplens-blog-bucket/images/Compost/20180404-152913.jpg to deeplens-blog-bucket/images/Compost/20180404-152913.jpg\n",
      "download: s3://deeplens-blog-bucket/images/Compost/20180404-153018.jpg to deeplens-blog-bucket/images/Compost/20180404-153018.jpg\n",
      "download: s3://deeplens-blog-bucket/images/Compost/20180404-153027.jpg to deeplens-blog-bucket/images/Compost/20180404-153027.jpg\n",
      "download: s3://deeplens-blog-bucket/images/Compost/20180404-152948.jpg to deeplens-blog-bucket/images/Compost/20180404-152948.jpg\n",
      "download: s3://deeplens-blog-bucket/images/Compost/20180404-153255.jpg to deeplens-blog-bucket/images/Compost/20180404-153255.jpg\n",
      "download: s3://deeplens-blog-bucket/images/Compost/20180404-153258.jpg to deeplens-blog-bucket/images/Compost/20180404-153258.jpg\n",
      "download: s3://deeplens-blog-bucket/images/Compost/20180404-152403.jpg to deeplens-blog-bucket/images/Compost/20180404-152403.jpg\n",
      "download: s3://deeplens-blog-bucket/images/Compost/20180404-153252.jpg to deeplens-blog-bucket/images/Compost/20180404-153252.jpg\n",
      "download: s3://deeplens-blog-bucket/images/Compost/20180404-153241.jpg to deeplens-blog-bucket/images/Compost/20180404-153241.jpg\n",
      "download: s3://deeplens-blog-bucket/images/Compost/20180404-153319.jpg to deeplens-blog-bucket/images/Compost/20180404-153319.jpg\n",
      "download: s3://deeplens-blog-bucket/images/Compost/20180404-153449.jpg to deeplens-blog-bucket/images/Compost/20180404-153449.jpg\n",
      "download: s3://deeplens-blog-bucket/images/Compost/20180404-153225.jpg to deeplens-blog-bucket/images/Compost/20180404-153225.jpg\n",
      "download: s3://deeplens-blog-bucket/images/Compost/20180404-153359.jpg to deeplens-blog-bucket/images/Compost/20180404-153359.jpg\n",
      "download: s3://deeplens-blog-bucket/images/Compost/20180404-153247.jpg to deeplens-blog-bucket/images/Compost/20180404-153247.jpg\n",
      "download: s3://deeplens-blog-bucket/images/Compost/20180404-153547.jpg to deeplens-blog-bucket/images/Compost/20180404-153547.jpg\n",
      "download: s3://deeplens-blog-bucket/images/Compost/20180404-153307.jpg to deeplens-blog-bucket/images/Compost/20180404-153307.jpg\n",
      "download: s3://deeplens-blog-bucket/images/Compost/20180404-153417.jpg to deeplens-blog-bucket/images/Compost/20180404-153417.jpg\n",
      "download: s3://deeplens-blog-bucket/images/Compost/20180404-153127.jpg to deeplens-blog-bucket/images/Compost/20180404-153127.jpg\n",
      "download: s3://deeplens-blog-bucket/images/Compost/20180404-153331.jpg to deeplens-blog-bucket/images/Compost/20180404-153331.jpg\n",
      "download: s3://deeplens-blog-bucket/images/Compost/20180404-153558.jpg to deeplens-blog-bucket/images/Compost/20180404-153558.jpg\n",
      "download: s3://deeplens-blog-bucket/images/Compost/20180404-153626.jpg to deeplens-blog-bucket/images/Compost/20180404-153626.jpg\n",
      "download: s3://deeplens-blog-bucket/images/Compost/20180404-153734.jpg to deeplens-blog-bucket/images/Compost/20180404-153734.jpg\n",
      "download: s3://deeplens-blog-bucket/images/Compost/20180404-153659.jpg to deeplens-blog-bucket/images/Compost/20180404-153659.jpg\n",
      "download: s3://deeplens-blog-bucket/images/Compost/20180404-153748.jpg to deeplens-blog-bucket/images/Compost/20180404-153748.jpg\n",
      "download: s3://deeplens-blog-bucket/images/Compost/20180404-153613.jpg to deeplens-blog-bucket/images/Compost/20180404-153613.jpg\n",
      "download: s3://deeplens-blog-bucket/images/Compost/20180404-153806.jpg to deeplens-blog-bucket/images/Compost/20180404-153806.jpg\n",
      "download: s3://deeplens-blog-bucket/images/Compost/20180404-153714.jpg to deeplens-blog-bucket/images/Compost/20180404-153714.jpg\n",
      "download: s3://deeplens-blog-bucket/images/Compost/20180404-153835.jpg to deeplens-blog-bucket/images/Compost/20180404-153835.jpg\n",
      "download: s3://deeplens-blog-bucket/images/Compost/20180404-153853.jpg to deeplens-blog-bucket/images/Compost/20180404-153853.jpg\n",
      "download: s3://deeplens-blog-bucket/images/Compost/20180404-153823.jpg to deeplens-blog-bucket/images/Compost/20180404-153823.jpg\n",
      "download: s3://deeplens-blog-bucket/images/Compost/20180404-153935.jpg to deeplens-blog-bucket/images/Compost/20180404-153935.jpg\n",
      "download: s3://deeplens-blog-bucket/images/Compost/20180404-153905.jpg to deeplens-blog-bucket/images/Compost/20180404-153905.jpg\n",
      "download: s3://deeplens-blog-bucket/images/Compost/20180404-153924.jpg to deeplens-blog-bucket/images/Compost/20180404-153924.jpg\n",
      "download: s3://deeplens-blog-bucket/images/Compost/20180404-154011.jpg to deeplens-blog-bucket/images/Compost/20180404-154011.jpg\n",
      "download: s3://deeplens-blog-bucket/images/Compost/20180404-154024.jpg to deeplens-blog-bucket/images/Compost/20180404-154024.jpg\n",
      "download: s3://deeplens-blog-bucket/images/Compost/20180404-153959.jpg to deeplens-blog-bucket/images/Compost/20180404-153959.jpg\n",
      "download: s3://deeplens-blog-bucket/images/Compost/20180404-154058.jpg to deeplens-blog-bucket/images/Compost/20180404-154058.jpg\n",
      "download: s3://deeplens-blog-bucket/images/Compost/20180404-154046.jpg to deeplens-blog-bucket/images/Compost/20180404-154046.jpg\n",
      "download: s3://deeplens-blog-bucket/images/Compost/20180404-154205.jpg to deeplens-blog-bucket/images/Compost/20180404-154205.jpg\n",
      "download: s3://deeplens-blog-bucket/images/Compost/20180404-154214.jpg to deeplens-blog-bucket/images/Compost/20180404-154214.jpg\n",
      "download: s3://deeplens-blog-bucket/images/Compost/20180404-154227.jpg to deeplens-blog-bucket/images/Compost/20180404-154227.jpg\n",
      "download: s3://deeplens-blog-bucket/images/Compost/20180404-154238.jpg to deeplens-blog-bucket/images/Compost/20180404-154238.jpg\n",
      "download: s3://deeplens-blog-bucket/images/Compost/20180404-154252.jpg to deeplens-blog-bucket/images/Compost/20180404-154252.jpg\n",
      "download: s3://deeplens-blog-bucket/images/Compost/20180404-154324.jpg to deeplens-blog-bucket/images/Compost/20180404-154324.jpg\n",
      "download: s3://deeplens-blog-bucket/images/Compost/20180404-154305.jpg to deeplens-blog-bucket/images/Compost/20180404-154305.jpg\n",
      "download: s3://deeplens-blog-bucket/images/Compost/20180404-154340.jpg to deeplens-blog-bucket/images/Compost/20180404-154340.jpg\n",
      "download: s3://deeplens-blog-bucket/images/Compost/20180404-154353.jpg to deeplens-blog-bucket/images/Compost/20180404-154353.jpg\n",
      "download: s3://deeplens-blog-bucket/images/Compost/20180404-154421.jpg to deeplens-blog-bucket/images/Compost/20180404-154421.jpg\n",
      "download: s3://deeplens-blog-bucket/images/Compost/20180404-154405.jpg to deeplens-blog-bucket/images/Compost/20180404-154405.jpg\n",
      "download: s3://deeplens-blog-bucket/images/Compost/20180404-154555.jpg to deeplens-blog-bucket/images/Compost/20180404-154555.jpg\n",
      "download: s3://deeplens-blog-bucket/images/Compost/20180404-154434.jpg to deeplens-blog-bucket/images/Compost/20180404-154434.jpg\n",
      "download: s3://deeplens-blog-bucket/images/Compost/20180404-154608.jpg to deeplens-blog-bucket/images/Compost/20180404-154608.jpg\n",
      "download: s3://deeplens-blog-bucket/images/Compost/20180404-154701.jpg to deeplens-blog-bucket/images/Compost/20180404-154701.jpg\n",
      "download: s3://deeplens-blog-bucket/images/Compost/20180404-154623.jpg to deeplens-blog-bucket/images/Compost/20180404-154623.jpg\n",
      "download: s3://deeplens-blog-bucket/images/Compost/20180404-154150.jpg to deeplens-blog-bucket/images/Compost/20180404-154150.jpg\n",
      "download: s3://deeplens-blog-bucket/images/Compost/20180404-154718.jpg to deeplens-blog-bucket/images/Compost/20180404-154718.jpg\n",
      "download: s3://deeplens-blog-bucket/images/Compost/20180404-160232.jpg to deeplens-blog-bucket/images/Compost/20180404-160232.jpg\n",
      "download: s3://deeplens-blog-bucket/images/Compost/20180404-160249.jpg to deeplens-blog-bucket/images/Compost/20180404-160249.jpg\n",
      "download: s3://deeplens-blog-bucket/images/Compost/20180404-160302.jpg to deeplens-blog-bucket/images/Compost/20180404-160302.jpg\n",
      "download: s3://deeplens-blog-bucket/images/Compost/20180405-153020.jpg to deeplens-blog-bucket/images/Compost/20180405-153020.jpg\n",
      "download: s3://deeplens-blog-bucket/images/Compost/20180404-160347.jpg to deeplens-blog-bucket/images/Compost/20180404-160347.jpg\n",
      "download: s3://deeplens-blog-bucket/images/Compost/20180405-153010.jpg to deeplens-blog-bucket/images/Compost/20180405-153010.jpg\n",
      "download: s3://deeplens-blog-bucket/images/Compost/20180405-153042.jpg to deeplens-blog-bucket/images/Compost/20180405-153042.jpg\n",
      "download: s3://deeplens-blog-bucket/images/Compost/20180405-153033.jpg to deeplens-blog-bucket/images/Compost/20180405-153033.jpg\n",
      "download: s3://deeplens-blog-bucket/images/Compost/20180405-153104.jpg to deeplens-blog-bucket/images/Compost/20180405-153104.jpg\n",
      "download: s3://deeplens-blog-bucket/images/Compost/20180405-153051.jpg to deeplens-blog-bucket/images/Compost/20180405-153051.jpg\n",
      "download: s3://deeplens-blog-bucket/images/Compost/20180405-153112.jpg to deeplens-blog-bucket/images/Compost/20180405-153112.jpg\n",
      "download: s3://deeplens-blog-bucket/images/Compost/20180405-153238.jpg to deeplens-blog-bucket/images/Compost/20180405-153238.jpg\n",
      "download: s3://deeplens-blog-bucket/images/Compost/20180404-160212.jpg to deeplens-blog-bucket/images/Compost/20180404-160212.jpg\n",
      "download: s3://deeplens-blog-bucket/images/Compost/20180405-153340.jpg to deeplens-blog-bucket/images/Compost/20180405-153340.jpg\n",
      "download: s3://deeplens-blog-bucket/images/Compost/20180404-160410.jpg to deeplens-blog-bucket/images/Compost/20180404-160410.jpg\n",
      "download: s3://deeplens-blog-bucket/images/Compost/20180405-153325.jpg to deeplens-blog-bucket/images/Compost/20180405-153325.jpg\n",
      "download: s3://deeplens-blog-bucket/images/Compost/20180405-153252.jpg to deeplens-blog-bucket/images/Compost/20180405-153252.jpg\n",
      "download: s3://deeplens-blog-bucket/images/Compost/20180405-153307.jpg to deeplens-blog-bucket/images/Compost/20180405-153307.jpg\n",
      "download: s3://deeplens-blog-bucket/images/Compost/20180405-160220.jpg to deeplens-blog-bucket/images/Compost/20180405-160220.jpg\n",
      "download: s3://deeplens-blog-bucket/images/Compost/20180405-160211.jpg to deeplens-blog-bucket/images/Compost/20180405-160211.jpg\n",
      "download: s3://deeplens-blog-bucket/images/Compost/20180405-160235.jpg to deeplens-blog-bucket/images/Compost/20180405-160235.jpg\n",
      "download: s3://deeplens-blog-bucket/images/Compost/20180405-160503.jpg to deeplens-blog-bucket/images/Compost/20180405-160503.jpg\n",
      "download: s3://deeplens-blog-bucket/images/Compost/20180405-160252.jpg to deeplens-blog-bucket/images/Compost/20180405-160252.jpg\n",
      "download: s3://deeplens-blog-bucket/images/Compost/20180405-160441.jpg to deeplens-blog-bucket/images/Compost/20180405-160441.jpg\n",
      "download: s3://deeplens-blog-bucket/images/Compost/20180405-160521.jpg to deeplens-blog-bucket/images/Compost/20180405-160521.jpg\n",
      "download: s3://deeplens-blog-bucket/images/Compost/20180405-160154.jpg to deeplens-blog-bucket/images/Compost/20180405-160154.jpg\n",
      "download: s3://deeplens-blog-bucket/images/Compost/20180405-160315.jpg to deeplens-blog-bucket/images/Compost/20180405-160315.jpg\n",
      "download: s3://deeplens-blog-bucket/images/Compost/20180405-160534.jpg to deeplens-blog-bucket/images/Compost/20180405-160534.jpg\n",
      "download: s3://deeplens-blog-bucket/images/Compost/20180405-160555.jpg to deeplens-blog-bucket/images/Compost/20180405-160555.jpg\n",
      "download: s3://deeplens-blog-bucket/images/Compost/20180405-160846.jpg to deeplens-blog-bucket/images/Compost/20180405-160846.jpg\n",
      "download: s3://deeplens-blog-bucket/images/Compost/20180405-161002.jpg to deeplens-blog-bucket/images/Compost/20180405-161002.jpg\n",
      "download: s3://deeplens-blog-bucket/images/Compost/20180405-161013.jpg to deeplens-blog-bucket/images/Compost/20180405-161013.jpg\n",
      "download: s3://deeplens-blog-bucket/images/Compost/20180405-160806.jpg to deeplens-blog-bucket/images/Compost/20180405-160806.jpg\n",
      "download: s3://deeplens-blog-bucket/images/Compost/20180405-160949.jpg to deeplens-blog-bucket/images/Compost/20180405-160949.jpg\n",
      "download: s3://deeplens-blog-bucket/images/Compost/20180405-160830.jpg to deeplens-blog-bucket/images/Compost/20180405-160830.jpg\n",
      "download: s3://deeplens-blog-bucket/images/Compost/20180405-160818.jpg to deeplens-blog-bucket/images/Compost/20180405-160818.jpg\n",
      "download: s3://deeplens-blog-bucket/images/Compost/20180405-160735.jpg to deeplens-blog-bucket/images/Compost/20180405-160735.jpg\n",
      "download: s3://deeplens-blog-bucket/images/Compost/20180405-161122.jpg to deeplens-blog-bucket/images/Compost/20180405-161122.jpg\n",
      "download: s3://deeplens-blog-bucket/images/Compost/20180405-161054.jpg to deeplens-blog-bucket/images/Compost/20180405-161054.jpg\n",
      "download: s3://deeplens-blog-bucket/images/Compost/20180405-161107.jpg to deeplens-blog-bucket/images/Compost/20180405-161107.jpg\n",
      "download: s3://deeplens-blog-bucket/images/Compost/20180405-161040.jpg to deeplens-blog-bucket/images/Compost/20180405-161040.jpg\n",
      "download: s3://deeplens-blog-bucket/images/Compost/20180405-161140.jpg to deeplens-blog-bucket/images/Compost/20180405-161140.jpg\n",
      "download: s3://deeplens-blog-bucket/images/Compost/20180405-161027.jpg to deeplens-blog-bucket/images/Compost/20180405-161027.jpg\n",
      "download: s3://deeplens-blog-bucket/images/Compost/20180405-161156.jpg to deeplens-blog-bucket/images/Compost/20180405-161156.jpg\n",
      "download: s3://deeplens-blog-bucket/images/Compost/20180503-162101.jpg to deeplens-blog-bucket/images/Compost/20180503-162101.jpg\n",
      "download: s3://deeplens-blog-bucket/images/Compost/20180503-162141.jpg to deeplens-blog-bucket/images/Compost/20180503-162141.jpg\n",
      "download: s3://deeplens-blog-bucket/images/Compost/20180503-162131.jpg to deeplens-blog-bucket/images/Compost/20180503-162131.jpg\n",
      "download: s3://deeplens-blog-bucket/images/Compost/20180503-162202.jpg to deeplens-blog-bucket/images/Compost/20180503-162202.jpg\n",
      "download: s3://deeplens-blog-bucket/images/Compost/20180503-162214.jpg to deeplens-blog-bucket/images/Compost/20180503-162214.jpg\n",
      "download: s3://deeplens-blog-bucket/images/Compost/20180503-162257.jpg to deeplens-blog-bucket/images/Compost/20180503-162257.jpg\n",
      "download: s3://deeplens-blog-bucket/images/Compost/20180503-162459.jpg to deeplens-blog-bucket/images/Compost/20180503-162459.jpg\n",
      "download: s3://deeplens-blog-bucket/images/Compost/20180503-162230.jpg to deeplens-blog-bucket/images/Compost/20180503-162230.jpg\n",
      "download: s3://deeplens-blog-bucket/images/Compost/20180503-162351.jpg to deeplens-blog-bucket/images/Compost/20180503-162351.jpg\n",
      "download: s3://deeplens-blog-bucket/images/Compost/20180503-162406.jpg to deeplens-blog-bucket/images/Compost/20180503-162406.jpg\n",
      "download: s3://deeplens-blog-bucket/images/Compost/20180503-162337.jpg to deeplens-blog-bucket/images/Compost/20180503-162337.jpg\n",
      "download: s3://deeplens-blog-bucket/images/Compost/20180503-162046.jpg to deeplens-blog-bucket/images/Compost/20180503-162046.jpg\n",
      "download: s3://deeplens-blog-bucket/images/Compost/20180503-162311.jpg to deeplens-blog-bucket/images/Compost/20180503-162311.jpg\n",
      "download: s3://deeplens-blog-bucket/images/Compost/20180503-162512.jpg to deeplens-blog-bucket/images/Compost/20180503-162512.jpg\n",
      "download: s3://deeplens-blog-bucket/images/Compost/20180503-162440.jpg to deeplens-blog-bucket/images/Compost/20180503-162440.jpg\n",
      "download: s3://deeplens-blog-bucket/images/Compost/20180503-162425.jpg to deeplens-blog-bucket/images/Compost/20180503-162425.jpg\n",
      "download: s3://deeplens-blog-bucket/images/Compost/20180503-162606.jpg to deeplens-blog-bucket/images/Compost/20180503-162606.jpg\n",
      "download: s3://deeplens-blog-bucket/images/Compost/20180503-162652.jpg to deeplens-blog-bucket/images/Compost/20180503-162652.jpg\n",
      "download: s3://deeplens-blog-bucket/images/Compost/20180503-162620.jpg to deeplens-blog-bucket/images/Compost/20180503-162620.jpg\n",
      "download: s3://deeplens-blog-bucket/images/Compost/20180503-162707.jpg to deeplens-blog-bucket/images/Compost/20180503-162707.jpg\n",
      "download: s3://deeplens-blog-bucket/images/Compost/20180503-162812.jpg to deeplens-blog-bucket/images/Compost/20180503-162812.jpg\n",
      "download: s3://deeplens-blog-bucket/images/Landfill/20180403-201006.jpg to deeplens-blog-bucket/images/Landfill/20180403-201006.jpg\n",
      "download: s3://deeplens-blog-bucket/images/Compost/20180503-162733.jpg to deeplens-blog-bucket/images/Compost/20180503-162733.jpg\n",
      "download: s3://deeplens-blog-bucket/images/Compost/20180503-162757.jpg to deeplens-blog-bucket/images/Compost/20180503-162757.jpg\n",
      "download: s3://deeplens-blog-bucket/images/Landfill/20180403-201021.jpg to deeplens-blog-bucket/images/Landfill/20180403-201021.jpg\n",
      "download: s3://deeplens-blog-bucket/images/Compost/20180503-162835.jpg to deeplens-blog-bucket/images/Compost/20180503-162835.jpg\n",
      "download: s3://deeplens-blog-bucket/images/Landfill/20180403-201107.jpg to deeplens-blog-bucket/images/Landfill/20180403-201107.jpg\n",
      "download: s3://deeplens-blog-bucket/images/Landfill/20180403-200939.jpg to deeplens-blog-bucket/images/Landfill/20180403-200939.jpg\n",
      "download: s3://deeplens-blog-bucket/images/Landfill/20180403-201031.jpg to deeplens-blog-bucket/images/Landfill/20180403-201031.jpg\n",
      "download: s3://deeplens-blog-bucket/images/Landfill/20180403-201232.jpg to deeplens-blog-bucket/images/Landfill/20180403-201232.jpg\n",
      "download: s3://deeplens-blog-bucket/images/Compost/20180503-162529.jpg to deeplens-blog-bucket/images/Compost/20180503-162529.jpg\n",
      "download: s3://deeplens-blog-bucket/images/Landfill/20180403-201244.jpg to deeplens-blog-bucket/images/Landfill/20180403-201244.jpg\n",
      "download: s3://deeplens-blog-bucket/images/Landfill/20180403-200954.jpg to deeplens-blog-bucket/images/Landfill/20180403-200954.jpg\n",
      "download: s3://deeplens-blog-bucket/images/Landfill/20180403-201201.jpg to deeplens-blog-bucket/images/Landfill/20180403-201201.jpg\n",
      "download: s3://deeplens-blog-bucket/images/Landfill/20180403-201144.jpg to deeplens-blog-bucket/images/Landfill/20180403-201144.jpg\n",
      "download: s3://deeplens-blog-bucket/images/Landfill/20180403-201222.jpg to deeplens-blog-bucket/images/Landfill/20180403-201222.jpg\n",
      "download: s3://deeplens-blog-bucket/images/Landfill/20180403-202324.jpg to deeplens-blog-bucket/images/Landfill/20180403-202324.jpg\n",
      "download: s3://deeplens-blog-bucket/images/Landfill/20180403-202314.jpg to deeplens-blog-bucket/images/Landfill/20180403-202314.jpg\n",
      "download: s3://deeplens-blog-bucket/images/Landfill/20180403-202348.jpg to deeplens-blog-bucket/images/Landfill/20180403-202348.jpg\n",
      "download: s3://deeplens-blog-bucket/images/Landfill/20180403-202408.jpg to deeplens-blog-bucket/images/Landfill/20180403-202408.jpg\n",
      "download: s3://deeplens-blog-bucket/images/Landfill/20180403-202423.jpg to deeplens-blog-bucket/images/Landfill/20180403-202423.jpg\n",
      "download: s3://deeplens-blog-bucket/images/Landfill/20180403-202610.jpg to deeplens-blog-bucket/images/Landfill/20180403-202610.jpg\n",
      "download: s3://deeplens-blog-bucket/images/Landfill/20180403-202453.jpg to deeplens-blog-bucket/images/Landfill/20180403-202453.jpg\n",
      "download: s3://deeplens-blog-bucket/images/Landfill/20180403-202518.jpg to deeplens-blog-bucket/images/Landfill/20180403-202518.jpg\n",
      "download: s3://deeplens-blog-bucket/images/Landfill/20180403-202440.jpg to deeplens-blog-bucket/images/Landfill/20180403-202440.jpg\n",
      "download: s3://deeplens-blog-bucket/images/Landfill/20180403-202505.jpg to deeplens-blog-bucket/images/Landfill/20180403-202505.jpg\n",
      "download: s3://deeplens-blog-bucket/images/Landfill/20180403-202632.jpg to deeplens-blog-bucket/images/Landfill/20180403-202632.jpg\n",
      "download: s3://deeplens-blog-bucket/images/Landfill/20180403-202701.jpg to deeplens-blog-bucket/images/Landfill/20180403-202701.jpg\n",
      "download: s3://deeplens-blog-bucket/images/Landfill/20180403-202620.jpg to deeplens-blog-bucket/images/Landfill/20180403-202620.jpg\n",
      "download: s3://deeplens-blog-bucket/images/Landfill/20180403-202733.jpg to deeplens-blog-bucket/images/Landfill/20180403-202733.jpg\n",
      "download: s3://deeplens-blog-bucket/images/Landfill/20180404-150339.jpg to deeplens-blog-bucket/images/Landfill/20180404-150339.jpg\n",
      "download: s3://deeplens-blog-bucket/images/Landfill/20180403-202714.jpg to deeplens-blog-bucket/images/Landfill/20180403-202714.jpg\n",
      "download: s3://deeplens-blog-bucket/images/Landfill/20180403-202335.jpg to deeplens-blog-bucket/images/Landfill/20180403-202335.jpg\n",
      "download: s3://deeplens-blog-bucket/images/Landfill/20180404-150449.jpg to deeplens-blog-bucket/images/Landfill/20180404-150449.jpg\n",
      "download: s3://deeplens-blog-bucket/images/Landfill/20180404-150326.jpg to deeplens-blog-bucket/images/Landfill/20180404-150326.jpg\n",
      "download: s3://deeplens-blog-bucket/images/Landfill/20180404-150405.jpg to deeplens-blog-bucket/images/Landfill/20180404-150405.jpg\n",
      "download: s3://deeplens-blog-bucket/images/Landfill/20180403-202816.jpg to deeplens-blog-bucket/images/Landfill/20180403-202816.jpg\n",
      "download: s3://deeplens-blog-bucket/images/Landfill/20180403-202803.jpg to deeplens-blog-bucket/images/Landfill/20180403-202803.jpg\n",
      "download: s3://deeplens-blog-bucket/images/Landfill/20180404-150431.jpg to deeplens-blog-bucket/images/Landfill/20180404-150431.jpg\n",
      "download: s3://deeplens-blog-bucket/images/Landfill/20180403-202643.jpg to deeplens-blog-bucket/images/Landfill/20180403-202643.jpg\n",
      "download: s3://deeplens-blog-bucket/images/Landfill/20180404-150533.jpg to deeplens-blog-bucket/images/Landfill/20180404-150533.jpg\n",
      "download: s3://deeplens-blog-bucket/images/Landfill/20180403-202828.jpg to deeplens-blog-bucket/images/Landfill/20180403-202828.jpg\n",
      "download: s3://deeplens-blog-bucket/images/Landfill/20180404-150600.jpg to deeplens-blog-bucket/images/Landfill/20180404-150600.jpg\n",
      "download: s3://deeplens-blog-bucket/images/Landfill/20180404-150545.jpg to deeplens-blog-bucket/images/Landfill/20180404-150545.jpg\n",
      "download: s3://deeplens-blog-bucket/images/Landfill/20180404-154800.jpg to deeplens-blog-bucket/images/Landfill/20180404-154800.jpg\n",
      "download: s3://deeplens-blog-bucket/images/Landfill/20180404-150352.jpg to deeplens-blog-bucket/images/Landfill/20180404-150352.jpg\n",
      "download: s3://deeplens-blog-bucket/images/Landfill/20180404-150626.jpg to deeplens-blog-bucket/images/Landfill/20180404-150626.jpg\n",
      "download: s3://deeplens-blog-bucket/images/Landfill/20180404-154847.jpg to deeplens-blog-bucket/images/Landfill/20180404-154847.jpg\n",
      "download: s3://deeplens-blog-bucket/images/Landfill/20180404-150712.jpg to deeplens-blog-bucket/images/Landfill/20180404-150712.jpg\n",
      "download: s3://deeplens-blog-bucket/images/Landfill/20180404-154831.jpg to deeplens-blog-bucket/images/Landfill/20180404-154831.jpg\n",
      "download: s3://deeplens-blog-bucket/images/Landfill/20180404-154915.jpg to deeplens-blog-bucket/images/Landfill/20180404-154915.jpg\n",
      "download: s3://deeplens-blog-bucket/images/Landfill/20180404-154934.jpg to deeplens-blog-bucket/images/Landfill/20180404-154934.jpg\n",
      "download: s3://deeplens-blog-bucket/images/Landfill/20180404-154900.jpg to deeplens-blog-bucket/images/Landfill/20180404-154900.jpg\n",
      "download: s3://deeplens-blog-bucket/images/Landfill/20180404-155049.jpg to deeplens-blog-bucket/images/Landfill/20180404-155049.jpg\n",
      "download: s3://deeplens-blog-bucket/images/Landfill/20180404-155133.jpg to deeplens-blog-bucket/images/Landfill/20180404-155133.jpg\n",
      "download: s3://deeplens-blog-bucket/images/Landfill/20180404-154958.jpg to deeplens-blog-bucket/images/Landfill/20180404-154958.jpg\n",
      "download: s3://deeplens-blog-bucket/images/Landfill/20180404-155116.jpg to deeplens-blog-bucket/images/Landfill/20180404-155116.jpg\n",
      "download: s3://deeplens-blog-bucket/images/Landfill/20180404-155106.jpg to deeplens-blog-bucket/images/Landfill/20180404-155106.jpg\n",
      "download: s3://deeplens-blog-bucket/images/Landfill/20180404-155206.jpg to deeplens-blog-bucket/images/Landfill/20180404-155206.jpg\n",
      "download: s3://deeplens-blog-bucket/images/Landfill/20180404-155148.jpg to deeplens-blog-bucket/images/Landfill/20180404-155148.jpg\n",
      "download: s3://deeplens-blog-bucket/images/Landfill/20180404-155224.jpg to deeplens-blog-bucket/images/Landfill/20180404-155224.jpg\n",
      "download: s3://deeplens-blog-bucket/images/Landfill/20180404-155327.jpg to deeplens-blog-bucket/images/Landfill/20180404-155327.jpg\n",
      "download: s3://deeplens-blog-bucket/images/Landfill/20180404-155254.jpg to deeplens-blog-bucket/images/Landfill/20180404-155254.jpg\n",
      "download: s3://deeplens-blog-bucket/images/Landfill/20180404-155351.jpg to deeplens-blog-bucket/images/Landfill/20180404-155351.jpg\n",
      "download: s3://deeplens-blog-bucket/images/Landfill/20180404-155445.jpg to deeplens-blog-bucket/images/Landfill/20180404-155445.jpg\n",
      "download: s3://deeplens-blog-bucket/images/Landfill/20180404-155527.jpg to deeplens-blog-bucket/images/Landfill/20180404-155527.jpg\n",
      "download: s3://deeplens-blog-bucket/images/Landfill/20180404-155404.jpg to deeplens-blog-bucket/images/Landfill/20180404-155404.jpg\n",
      "download: s3://deeplens-blog-bucket/images/Landfill/20180404-155516.jpg to deeplens-blog-bucket/images/Landfill/20180404-155516.jpg\n",
      "download: s3://deeplens-blog-bucket/images/Landfill/20180404-155339.jpg to deeplens-blog-bucket/images/Landfill/20180404-155339.jpg\n",
      "download: s3://deeplens-blog-bucket/images/Landfill/20180404-155614.jpg to deeplens-blog-bucket/images/Landfill/20180404-155614.jpg\n",
      "download: s3://deeplens-blog-bucket/images/Landfill/20180404-155419.jpg to deeplens-blog-bucket/images/Landfill/20180404-155419.jpg\n",
      "download: s3://deeplens-blog-bucket/images/Landfill/20180404-155315.jpg to deeplens-blog-bucket/images/Landfill/20180404-155315.jpg\n",
      "download: s3://deeplens-blog-bucket/images/Landfill/20180404-155627.jpg to deeplens-blog-bucket/images/Landfill/20180404-155627.jpg\n",
      "download: s3://deeplens-blog-bucket/images/Landfill/20180404-155457.jpg to deeplens-blog-bucket/images/Landfill/20180404-155457.jpg\n",
      "download: s3://deeplens-blog-bucket/images/Landfill/20180404-155601.jpg to deeplens-blog-bucket/images/Landfill/20180404-155601.jpg\n",
      "download: s3://deeplens-blog-bucket/images/Landfill/20180404-155548.jpg to deeplens-blog-bucket/images/Landfill/20180404-155548.jpg\n",
      "download: s3://deeplens-blog-bucket/images/Landfill/20180404-155432.jpg to deeplens-blog-bucket/images/Landfill/20180404-155432.jpg\n",
      "download: s3://deeplens-blog-bucket/images/Landfill/20180404-155640.jpg to deeplens-blog-bucket/images/Landfill/20180404-155640.jpg\n",
      "download: s3://deeplens-blog-bucket/images/Landfill/20180404-155651.jpg to deeplens-blog-bucket/images/Landfill/20180404-155651.jpg\n",
      "download: s3://deeplens-blog-bucket/images/Landfill/20180404-155702.jpg to deeplens-blog-bucket/images/Landfill/20180404-155702.jpg\n",
      "download: s3://deeplens-blog-bucket/images/Landfill/20180404-155904.jpg to deeplens-blog-bucket/images/Landfill/20180404-155904.jpg\n",
      "download: s3://deeplens-blog-bucket/images/Landfill/20180404-155818.jpg to deeplens-blog-bucket/images/Landfill/20180404-155818.jpg\n",
      "download: s3://deeplens-blog-bucket/images/Landfill/20180404-155829.jpg to deeplens-blog-bucket/images/Landfill/20180404-155829.jpg\n",
      "download: s3://deeplens-blog-bucket/images/Landfill/20180404-155728.jpg to deeplens-blog-bucket/images/Landfill/20180404-155728.jpg\n",
      "download: s3://deeplens-blog-bucket/images/Landfill/20180404-155851.jpg to deeplens-blog-bucket/images/Landfill/20180404-155851.jpg\n",
      "download: s3://deeplens-blog-bucket/images/Landfill/20180404-155840.jpg to deeplens-blog-bucket/images/Landfill/20180404-155840.jpg\n",
      "download: s3://deeplens-blog-bucket/images/Landfill/20180404-160050.jpg to deeplens-blog-bucket/images/Landfill/20180404-160050.jpg\n",
      "download: s3://deeplens-blog-bucket/images/Landfill/20180404-155917.jpg to deeplens-blog-bucket/images/Landfill/20180404-155917.jpg\n",
      "download: s3://deeplens-blog-bucket/images/Landfill/20180405-152910.jpg to deeplens-blog-bucket/images/Landfill/20180405-152910.jpg\n",
      "download: s3://deeplens-blog-bucket/images/Landfill/20180404-160019.jpg to deeplens-blog-bucket/images/Landfill/20180404-160019.jpg\n",
      "download: s3://deeplens-blog-bucket/images/Landfill/20180404-155935.jpg to deeplens-blog-bucket/images/Landfill/20180404-155935.jpg\n",
      "download: s3://deeplens-blog-bucket/images/Landfill/20180404-160110.jpg to deeplens-blog-bucket/images/Landfill/20180404-160110.jpg\n",
      "download: s3://deeplens-blog-bucket/images/Landfill/20180404-155741.jpg to deeplens-blog-bucket/images/Landfill/20180404-155741.jpg\n",
      "download: s3://deeplens-blog-bucket/images/Landfill/20180405-152847.jpg to deeplens-blog-bucket/images/Landfill/20180405-152847.jpg\n",
      "download: s3://deeplens-blog-bucket/images/Landfill/20180404-160123.jpg to deeplens-blog-bucket/images/Landfill/20180404-160123.jpg\n",
      "download: s3://deeplens-blog-bucket/images/Landfill/20180404-160037.jpg to deeplens-blog-bucket/images/Landfill/20180404-160037.jpg\n",
      "download: s3://deeplens-blog-bucket/images/Landfill/20180405-152856.jpg to deeplens-blog-bucket/images/Landfill/20180405-152856.jpg\n",
      "download: s3://deeplens-blog-bucket/images/Landfill/20180405-152921.jpg to deeplens-blog-bucket/images/Landfill/20180405-152921.jpg\n",
      "download: s3://deeplens-blog-bucket/images/Landfill/20180405-152825.jpg to deeplens-blog-bucket/images/Landfill/20180405-152825.jpg\n",
      "download: s3://deeplens-blog-bucket/images/Landfill/20180405-152935.jpg to deeplens-blog-bucket/images/Landfill/20180405-152935.jpg\n",
      "download: s3://deeplens-blog-bucket/images/Landfill/20180405-153410.jpg to deeplens-blog-bucket/images/Landfill/20180405-153410.jpg\n",
      "download: s3://deeplens-blog-bucket/images/Landfill/20180405-153445.jpg to deeplens-blog-bucket/images/Landfill/20180405-153445.jpg\n",
      "download: s3://deeplens-blog-bucket/images/Landfill/20180405-153422.jpg to deeplens-blog-bucket/images/Landfill/20180405-153422.jpg\n",
      "download: s3://deeplens-blog-bucket/images/Landfill/20180405-153432.jpg to deeplens-blog-bucket/images/Landfill/20180405-153432.jpg\n",
      "download: s3://deeplens-blog-bucket/images/Landfill/20180405-154629.jpg to deeplens-blog-bucket/images/Landfill/20180405-154629.jpg\n",
      "download: s3://deeplens-blog-bucket/images/Landfill/20180405-153507.jpg to deeplens-blog-bucket/images/Landfill/20180405-153507.jpg\n",
      "download: s3://deeplens-blog-bucket/images/Landfill/20180405-153455.jpg to deeplens-blog-bucket/images/Landfill/20180405-153455.jpg\n",
      "download: s3://deeplens-blog-bucket/images/Landfill/20180405-153522.jpg to deeplens-blog-bucket/images/Landfill/20180405-153522.jpg\n",
      "download: s3://deeplens-blog-bucket/images/Landfill/20180405-154651.jpg to deeplens-blog-bucket/images/Landfill/20180405-154651.jpg\n",
      "download: s3://deeplens-blog-bucket/images/Landfill/20180405-154716.jpg to deeplens-blog-bucket/images/Landfill/20180405-154716.jpg\n",
      "download: s3://deeplens-blog-bucket/images/Landfill/20180405-155147.jpg to deeplens-blog-bucket/images/Landfill/20180405-155147.jpg\n",
      "download: s3://deeplens-blog-bucket/images/Landfill/20180405-155233.jpg to deeplens-blog-bucket/images/Landfill/20180405-155233.jpg\n",
      "download: s3://deeplens-blog-bucket/images/Landfill/20180405-155257.jpg to deeplens-blog-bucket/images/Landfill/20180405-155257.jpg\n",
      "download: s3://deeplens-blog-bucket/images/Landfill/20180405-154640.jpg to deeplens-blog-bucket/images/Landfill/20180405-154640.jpg\n",
      "download: s3://deeplens-blog-bucket/images/Landfill/20180405-154704.jpg to deeplens-blog-bucket/images/Landfill/20180405-154704.jpg\n",
      "download: s3://deeplens-blog-bucket/images/Landfill/20180405-155456.jpg to deeplens-blog-bucket/images/Landfill/20180405-155456.jpg\n",
      "download: s3://deeplens-blog-bucket/images/Landfill/20180405-154738.jpg to deeplens-blog-bucket/images/Landfill/20180405-154738.jpg\n",
      "download: s3://deeplens-blog-bucket/images/Landfill/20180405-155445.jpg to deeplens-blog-bucket/images/Landfill/20180405-155445.jpg\n",
      "download: s3://deeplens-blog-bucket/images/Landfill/20180405-154727.jpg to deeplens-blog-bucket/images/Landfill/20180405-154727.jpg\n",
      "download: s3://deeplens-blog-bucket/images/Landfill/20180405-155219.jpg to deeplens-blog-bucket/images/Landfill/20180405-155219.jpg\n",
      "download: s3://deeplens-blog-bucket/images/Landfill/20180405-155431.jpg to deeplens-blog-bucket/images/Landfill/20180405-155431.jpg\n",
      "download: s3://deeplens-blog-bucket/images/Landfill/20180405-155509.jpg to deeplens-blog-bucket/images/Landfill/20180405-155509.jpg\n",
      "download: s3://deeplens-blog-bucket/images/Landfill/20180405-155408.jpg to deeplens-blog-bucket/images/Landfill/20180405-155408.jpg\n",
      "download: s3://deeplens-blog-bucket/images/Landfill/20180405-155351.jpg to deeplens-blog-bucket/images/Landfill/20180405-155351.jpg\n",
      "download: s3://deeplens-blog-bucket/images/Landfill/20180503-152710.jpg to deeplens-blog-bucket/images/Landfill/20180503-152710.jpg\n",
      "download: s3://deeplens-blog-bucket/images/Landfill/20180405-155555.jpg to deeplens-blog-bucket/images/Landfill/20180405-155555.jpg\n",
      "download: s3://deeplens-blog-bucket/images/Landfill/20180405-155520.jpg to deeplens-blog-bucket/images/Landfill/20180405-155520.jpg\n",
      "download: s3://deeplens-blog-bucket/images/Landfill/20180405-155610.jpg to deeplens-blog-bucket/images/Landfill/20180405-155610.jpg\n",
      "download: s3://deeplens-blog-bucket/images/Landfill/20180405-155540.jpg to deeplens-blog-bucket/images/Landfill/20180405-155540.jpg\n",
      "download: s3://deeplens-blog-bucket/images/Landfill/20180503-153030.jpg to deeplens-blog-bucket/images/Landfill/20180503-153030.jpg\n",
      "download: s3://deeplens-blog-bucket/images/Landfill/20180503-153055.jpg to deeplens-blog-bucket/images/Landfill/20180503-153055.jpg\n",
      "download: s3://deeplens-blog-bucket/images/Landfill/20180503-154435.jpg to deeplens-blog-bucket/images/Landfill/20180503-154435.jpg\n",
      "download: s3://deeplens-blog-bucket/images/Landfill/20180503-154411.jpg to deeplens-blog-bucket/images/Landfill/20180503-154411.jpg\n",
      "download: s3://deeplens-blog-bucket/images/Landfill/20180503-154337.jpg to deeplens-blog-bucket/images/Landfill/20180503-154337.jpg\n",
      "download: s3://deeplens-blog-bucket/images/Landfill/20180503-154422.jpg to deeplens-blog-bucket/images/Landfill/20180503-154422.jpg\n",
      "download: s3://deeplens-blog-bucket/images/Landfill/20180503-154324.jpg to deeplens-blog-bucket/images/Landfill/20180503-154324.jpg\n",
      "download: s3://deeplens-blog-bucket/images/Landfill/20180503-154446.jpg to deeplens-blog-bucket/images/Landfill/20180503-154446.jpg\n",
      "download: s3://deeplens-blog-bucket/images/Landfill/20180503-154549.jpg to deeplens-blog-bucket/images/Landfill/20180503-154549.jpg\n",
      "download: s3://deeplens-blog-bucket/images/Landfill/20180503-154531.jpg to deeplens-blog-bucket/images/Landfill/20180503-154531.jpg\n",
      "download: s3://deeplens-blog-bucket/images/Landfill/20180503-154602.jpg to deeplens-blog-bucket/images/Landfill/20180503-154602.jpg\n",
      "download: s3://deeplens-blog-bucket/images/Landfill/20180503-154616.jpg to deeplens-blog-bucket/images/Landfill/20180503-154616.jpg\n",
      "download: s3://deeplens-blog-bucket/images/Landfill/20180503-154658.jpg to deeplens-blog-bucket/images/Landfill/20180503-154658.jpg\n",
      "download: s3://deeplens-blog-bucket/images/Landfill/20180503-154724.jpg to deeplens-blog-bucket/images/Landfill/20180503-154724.jpg\n",
      "download: s3://deeplens-blog-bucket/images/Landfill/20180503-154628.jpg to deeplens-blog-bucket/images/Landfill/20180503-154628.jpg\n",
      "download: s3://deeplens-blog-bucket/images/Landfill/20180503-154842.jpg to deeplens-blog-bucket/images/Landfill/20180503-154842.jpg\n",
      "download: s3://deeplens-blog-bucket/images/Landfill/20180503-154713.jpg to deeplens-blog-bucket/images/Landfill/20180503-154713.jpg\n",
      "download: s3://deeplens-blog-bucket/images/Landfill/20180503-154857.jpg to deeplens-blog-bucket/images/Landfill/20180503-154857.jpg\n",
      "download: s3://deeplens-blog-bucket/images/Landfill/20180503-154642.jpg to deeplens-blog-bucket/images/Landfill/20180503-154642.jpg\n",
      "download: s3://deeplens-blog-bucket/images/Landfill/20180503-154909.jpg to deeplens-blog-bucket/images/Landfill/20180503-154909.jpg\n",
      "download: s3://deeplens-blog-bucket/images/Landfill/20180503-154828.jpg to deeplens-blog-bucket/images/Landfill/20180503-154828.jpg\n",
      "download: s3://deeplens-blog-bucket/images/Landfill/20180503-154924.jpg to deeplens-blog-bucket/images/Landfill/20180503-154924.jpg\n",
      "download: s3://deeplens-blog-bucket/images/Landfill/20180503-155006.jpg to deeplens-blog-bucket/images/Landfill/20180503-155006.jpg\n",
      "download: s3://deeplens-blog-bucket/images/Landfill/20180503-155018.jpg to deeplens-blog-bucket/images/Landfill/20180503-155018.jpg\n",
      "download: s3://deeplens-blog-bucket/images/Landfill/20180503-155033.jpg to deeplens-blog-bucket/images/Landfill/20180503-155033.jpg\n",
      "download: s3://deeplens-blog-bucket/images/Landfill/20180503-155254.jpg to deeplens-blog-bucket/images/Landfill/20180503-155254.jpg\n",
      "download: s3://deeplens-blog-bucket/images/Landfill/20180503-154813.jpg to deeplens-blog-bucket/images/Landfill/20180503-154813.jpg\n",
      "download: s3://deeplens-blog-bucket/images/Landfill/20180503-154952.jpg to deeplens-blog-bucket/images/Landfill/20180503-154952.jpg\n",
      "download: s3://deeplens-blog-bucket/images/Landfill/20180503-155232.jpg to deeplens-blog-bucket/images/Landfill/20180503-155232.jpg\n",
      "download: s3://deeplens-blog-bucket/images/Landfill/20180503-155456.jpg to deeplens-blog-bucket/images/Landfill/20180503-155456.jpg\n",
      "download: s3://deeplens-blog-bucket/images/Landfill/20180503-154745.jpg to deeplens-blog-bucket/images/Landfill/20180503-154745.jpg\n",
      "download: s3://deeplens-blog-bucket/images/Landfill/20180503-155321.jpg to deeplens-blog-bucket/images/Landfill/20180503-155321.jpg\n",
      "download: s3://deeplens-blog-bucket/images/Landfill/20180503-155423.jpg to deeplens-blog-bucket/images/Landfill/20180503-155423.jpg\n",
      "download: s3://deeplens-blog-bucket/images/Landfill/20180503-155334.jpg to deeplens-blog-bucket/images/Landfill/20180503-155334.jpg\n",
      "download: s3://deeplens-blog-bucket/images/Landfill/20180503-155506.jpg to deeplens-blog-bucket/images/Landfill/20180503-155506.jpg\n",
      "download: s3://deeplens-blog-bucket/images/Landfill/20180503-155351.jpg to deeplens-blog-bucket/images/Landfill/20180503-155351.jpg\n",
      "download: s3://deeplens-blog-bucket/images/Landfill/20180503-155438.jpg to deeplens-blog-bucket/images/Landfill/20180503-155438.jpg\n",
      "download: s3://deeplens-blog-bucket/images/Landfill/20180503-155519.jpg to deeplens-blog-bucket/images/Landfill/20180503-155519.jpg\n",
      "download: s3://deeplens-blog-bucket/images/Landfill/20180503-163017.jpg to deeplens-blog-bucket/images/Landfill/20180503-163017.jpg\n",
      "download: s3://deeplens-blog-bucket/images/Landfill/20180503-163039.jpg to deeplens-blog-bucket/images/Landfill/20180503-163039.jpg\n",
      "download: s3://deeplens-blog-bucket/images/Landfill/20180503-163107.jpg to deeplens-blog-bucket/images/Landfill/20180503-163107.jpg\n",
      "download: s3://deeplens-blog-bucket/images/Landfill/20180503-162959.jpg to deeplens-blog-bucket/images/Landfill/20180503-162959.jpg\n",
      "download: s3://deeplens-blog-bucket/images/Landfill/20180503-163057.jpg to deeplens-blog-bucket/images/Landfill/20180503-163057.jpg\n",
      "download: s3://deeplens-blog-bucket/images/Landfill/20180503-155552.jpg to deeplens-blog-bucket/images/Landfill/20180503-155552.jpg\n",
      "download: s3://deeplens-blog-bucket/images/Landfill/20180503-163119.jpg to deeplens-blog-bucket/images/Landfill/20180503-163119.jpg\n",
      "download: s3://deeplens-blog-bucket/images/Landfill/20180503-163133.jpg to deeplens-blog-bucket/images/Landfill/20180503-163133.jpg\n",
      "download: s3://deeplens-blog-bucket/images/Landfill/20180503-163237.jpg to deeplens-blog-bucket/images/Landfill/20180503-163237.jpg\n",
      "download: s3://deeplens-blog-bucket/images/Landfill/20180503-163206.jpg to deeplens-blog-bucket/images/Landfill/20180503-163206.jpg\n",
      "download: s3://deeplens-blog-bucket/images/Landfill/20180503-163308.jpg to deeplens-blog-bucket/images/Landfill/20180503-163308.jpg\n",
      "download: s3://deeplens-blog-bucket/images/Landfill/20180503-163227.jpg to deeplens-blog-bucket/images/Landfill/20180503-163227.jpg\n",
      "download: s3://deeplens-blog-bucket/images/Landfill/20180503-163149.jpg to deeplens-blog-bucket/images/Landfill/20180503-163149.jpg\n",
      "download: s3://deeplens-blog-bucket/images/Landfill/20180503-163253.jpg to deeplens-blog-bucket/images/Landfill/20180503-163253.jpg\n",
      "download: s3://deeplens-blog-bucket/images/Landfill/20180503-163339.jpg to deeplens-blog-bucket/images/Landfill/20180503-163339.jpg\n",
      "download: s3://deeplens-blog-bucket/images/Landfill/20180503-163217.jpg to deeplens-blog-bucket/images/Landfill/20180503-163217.jpg\n",
      "download: s3://deeplens-blog-bucket/images/Landfill/20180503-163504.jpg to deeplens-blog-bucket/images/Landfill/20180503-163504.jpg\n",
      "download: s3://deeplens-blog-bucket/images/Landfill/20180503-163445.jpg to deeplens-blog-bucket/images/Landfill/20180503-163445.jpg\n",
      "download: s3://deeplens-blog-bucket/images/Landfill/20180503-163428.jpg to deeplens-blog-bucket/images/Landfill/20180503-163428.jpg\n",
      "download: s3://deeplens-blog-bucket/images/Landfill/20180503-163400.jpg to deeplens-blog-bucket/images/Landfill/20180503-163400.jpg\n",
      "download: s3://deeplens-blog-bucket/images/Landfill/20180503-163523.jpg to deeplens-blog-bucket/images/Landfill/20180503-163523.jpg\n",
      "download: s3://deeplens-blog-bucket/images/Landfill/20180503-163411.jpg to deeplens-blog-bucket/images/Landfill/20180503-163411.jpg\n",
      "download: s3://deeplens-blog-bucket/images/Landfill/20180503-163707.jpg to deeplens-blog-bucket/images/Landfill/20180503-163707.jpg\n",
      "download: s3://deeplens-blog-bucket/images/Landfill/20180503-163621.jpg to deeplens-blog-bucket/images/Landfill/20180503-163621.jpg\n",
      "download: s3://deeplens-blog-bucket/images/Landfill/20180503-163538.jpg to deeplens-blog-bucket/images/Landfill/20180503-163538.jpg\n",
      "download: s3://deeplens-blog-bucket/images/Landfill/20180503-163607.jpg to deeplens-blog-bucket/images/Landfill/20180503-163607.jpg\n",
      "download: s3://deeplens-blog-bucket/images/Landfill/20180503-163554.jpg to deeplens-blog-bucket/images/Landfill/20180503-163554.jpg\n",
      "download: s3://deeplens-blog-bucket/images/Recycling/20180403-202919.jpg to deeplens-blog-bucket/images/Recycling/20180403-202919.jpg\n",
      "download: s3://deeplens-blog-bucket/images/Recycling/20180403-203006.jpg to deeplens-blog-bucket/images/Recycling/20180403-203006.jpg\n",
      "download: s3://deeplens-blog-bucket/images/Landfill/20180503-163744.jpg to deeplens-blog-bucket/images/Landfill/20180503-163744.jpg\n",
      "download: s3://deeplens-blog-bucket/images/Landfill/20180503-163728.jpg to deeplens-blog-bucket/images/Landfill/20180503-163728.jpg\n",
      "download: s3://deeplens-blog-bucket/images/Recycling/20180403-202905.jpg to deeplens-blog-bucket/images/Recycling/20180403-202905.jpg\n",
      "download: s3://deeplens-blog-bucket/images/Landfill/20180503-155539.jpg to deeplens-blog-bucket/images/Landfill/20180503-155539.jpg\n",
      "download: s3://deeplens-blog-bucket/images/Recycling/20180403-203038.jpg to deeplens-blog-bucket/images/Recycling/20180403-203038.jpg\n",
      "download: s3://deeplens-blog-bucket/images/Recycling/20180403-203237.jpg to deeplens-blog-bucket/images/Recycling/20180403-203237.jpg\n",
      "download: s3://deeplens-blog-bucket/images/Recycling/20180403-203331.jpg to deeplens-blog-bucket/images/Recycling/20180403-203331.jpg\n",
      "download: s3://deeplens-blog-bucket/images/Recycling/20180403-203310.jpg to deeplens-blog-bucket/images/Recycling/20180403-203310.jpg\n",
      "download: s3://deeplens-blog-bucket/images/Recycling/20180403-203257.jpg to deeplens-blog-bucket/images/Recycling/20180403-203257.jpg\n",
      "download: s3://deeplens-blog-bucket/images/Recycling/20180403-203354.jpg to deeplens-blog-bucket/images/Recycling/20180403-203354.jpg\n",
      "download: s3://deeplens-blog-bucket/images/Recycling/20180403-203448.jpg to deeplens-blog-bucket/images/Recycling/20180403-203448.jpg\n",
      "download: s3://deeplens-blog-bucket/images/Recycling/20180403-203532.jpg to deeplens-blog-bucket/images/Recycling/20180403-203532.jpg\n",
      "download: s3://deeplens-blog-bucket/images/Recycling/20180403-203057.jpg to deeplens-blog-bucket/images/Recycling/20180403-203057.jpg\n",
      "download: s3://deeplens-blog-bucket/images/Recycling/20180403-203613.jpg to deeplens-blog-bucket/images/Recycling/20180403-203613.jpg\n",
      "download: s3://deeplens-blog-bucket/images/Recycling/20180403-203558.jpg to deeplens-blog-bucket/images/Recycling/20180403-203558.jpg\n",
      "download: s3://deeplens-blog-bucket/images/Recycling/20180403-203547.jpg to deeplens-blog-bucket/images/Recycling/20180403-203547.jpg\n",
      "download: s3://deeplens-blog-bucket/images/Recycling/20180403-203649.jpg to deeplens-blog-bucket/images/Recycling/20180403-203649.jpg\n",
      "download: s3://deeplens-blog-bucket/images/Recycling/20180403-203726.jpg to deeplens-blog-bucket/images/Recycling/20180403-203726.jpg\n",
      "download: s3://deeplens-blog-bucket/images/Recycling/20180403-203520.jpg to deeplens-blog-bucket/images/Recycling/20180403-203520.jpg\n",
      "download: s3://deeplens-blog-bucket/images/Recycling/20180404-150745.jpg to deeplens-blog-bucket/images/Recycling/20180404-150745.jpg\n",
      "download: s3://deeplens-blog-bucket/images/Recycling/20180403-203638.jpg to deeplens-blog-bucket/images/Recycling/20180403-203638.jpg\n",
      "download: s3://deeplens-blog-bucket/images/Recycling/20180403-203716.jpg to deeplens-blog-bucket/images/Recycling/20180403-203716.jpg\n",
      "download: s3://deeplens-blog-bucket/images/Recycling/20180404-150757.jpg to deeplens-blog-bucket/images/Recycling/20180404-150757.jpg\n",
      "download: s3://deeplens-blog-bucket/images/Recycling/20180404-150848.jpg to deeplens-blog-bucket/images/Recycling/20180404-150848.jpg\n",
      "download: s3://deeplens-blog-bucket/images/Recycling/20180404-150828.jpg to deeplens-blog-bucket/images/Recycling/20180404-150828.jpg\n",
      "download: s3://deeplens-blog-bucket/images/Recycling/20180404-150810.jpg to deeplens-blog-bucket/images/Recycling/20180404-150810.jpg\n",
      "download: s3://deeplens-blog-bucket/images/Recycling/20180404-150947.jpg to deeplens-blog-bucket/images/Recycling/20180404-150947.jpg\n",
      "download: s3://deeplens-blog-bucket/images/Recycling/20180404-150903.jpg to deeplens-blog-bucket/images/Recycling/20180404-150903.jpg\n",
      "download: s3://deeplens-blog-bucket/images/Recycling/20180404-150926.jpg to deeplens-blog-bucket/images/Recycling/20180404-150926.jpg\n",
      "download: s3://deeplens-blog-bucket/images/Recycling/20180404-151142.jpg to deeplens-blog-bucket/images/Recycling/20180404-151142.jpg\n",
      "download: s3://deeplens-blog-bucket/images/Recycling/20180403-203704.jpg to deeplens-blog-bucket/images/Recycling/20180403-203704.jpg\n",
      "download: s3://deeplens-blog-bucket/images/Recycling/20180404-151153.jpg to deeplens-blog-bucket/images/Recycling/20180404-151153.jpg\n",
      "download: s3://deeplens-blog-bucket/images/Recycling/20180404-151307.jpg to deeplens-blog-bucket/images/Recycling/20180404-151307.jpg\n",
      "download: s3://deeplens-blog-bucket/images/Recycling/20180404-151128.jpg to deeplens-blog-bucket/images/Recycling/20180404-151128.jpg\n",
      "download: s3://deeplens-blog-bucket/images/Recycling/20180404-151255.jpg to deeplens-blog-bucket/images/Recycling/20180404-151255.jpg\n",
      "download: s3://deeplens-blog-bucket/images/Recycling/20180404-151218.jpg to deeplens-blog-bucket/images/Recycling/20180404-151218.jpg\n",
      "download: s3://deeplens-blog-bucket/images/Recycling/20180404-151353.jpg to deeplens-blog-bucket/images/Recycling/20180404-151353.jpg\n",
      "download: s3://deeplens-blog-bucket/images/Recycling/20180404-151321.jpg to deeplens-blog-bucket/images/Recycling/20180404-151321.jpg\n",
      "download: s3://deeplens-blog-bucket/images/Recycling/20180404-151333.jpg to deeplens-blog-bucket/images/Recycling/20180404-151333.jpg\n",
      "download: s3://deeplens-blog-bucket/images/Recycling/20180404-151243.jpg to deeplens-blog-bucket/images/Recycling/20180404-151243.jpg\n",
      "download: s3://deeplens-blog-bucket/images/Recycling/20180404-151342.jpg to deeplens-blog-bucket/images/Recycling/20180404-151342.jpg\n",
      "download: s3://deeplens-blog-bucket/images/Recycling/20180404-151617.jpg to deeplens-blog-bucket/images/Recycling/20180404-151617.jpg\n",
      "download: s3://deeplens-blog-bucket/images/Recycling/20180404-151546.jpg to deeplens-blog-bucket/images/Recycling/20180404-151546.jpg\n",
      "download: s3://deeplens-blog-bucket/images/Recycling/20180404-151600.jpg to deeplens-blog-bucket/images/Recycling/20180404-151600.jpg\n",
      "download: s3://deeplens-blog-bucket/images/Recycling/20180404-151632.jpg to deeplens-blog-bucket/images/Recycling/20180404-151632.jpg\n",
      "download: s3://deeplens-blog-bucket/images/Recycling/20180404-151658.jpg to deeplens-blog-bucket/images/Recycling/20180404-151658.jpg\n",
      "download: s3://deeplens-blog-bucket/images/Recycling/20180404-151645.jpg to deeplens-blog-bucket/images/Recycling/20180404-151645.jpg\n",
      "download: s3://deeplens-blog-bucket/images/Recycling/20180404-151713.jpg to deeplens-blog-bucket/images/Recycling/20180404-151713.jpg\n",
      "download: s3://deeplens-blog-bucket/images/Recycling/20180405-154835.jpg to deeplens-blog-bucket/images/Recycling/20180405-154835.jpg\n",
      "download: s3://deeplens-blog-bucket/images/Recycling/20180405-154850.jpg to deeplens-blog-bucket/images/Recycling/20180405-154850.jpg\n",
      "download: s3://deeplens-blog-bucket/images/Recycling/20180404-151533.jpg to deeplens-blog-bucket/images/Recycling/20180404-151533.jpg\n",
      "download: s3://deeplens-blog-bucket/images/Recycling/20180404-151232.jpg to deeplens-blog-bucket/images/Recycling/20180404-151232.jpg\n",
      "download: s3://deeplens-blog-bucket/images/Recycling/20180405-154946.jpg to deeplens-blog-bucket/images/Recycling/20180405-154946.jpg\n",
      "download: s3://deeplens-blog-bucket/images/Recycling/20180405-154917.jpg to deeplens-blog-bucket/images/Recycling/20180405-154917.jpg\n",
      "download: s3://deeplens-blog-bucket/images/Recycling/20180405-155001.jpg to deeplens-blog-bucket/images/Recycling/20180405-155001.jpg\n",
      "download: s3://deeplens-blog-bucket/images/Recycling/20180405-154930.jpg to deeplens-blog-bucket/images/Recycling/20180405-154930.jpg\n",
      "download: s3://deeplens-blog-bucket/images/Recycling/20180405-155846.jpg to deeplens-blog-bucket/images/Recycling/20180405-155846.jpg\n",
      "download: s3://deeplens-blog-bucket/images/Recycling/20180405-155807.jpg to deeplens-blog-bucket/images/Recycling/20180405-155807.jpg\n",
      "download: s3://deeplens-blog-bucket/images/Recycling/20180405-155924.jpg to deeplens-blog-bucket/images/Recycling/20180405-155924.jpg\n",
      "download: s3://deeplens-blog-bucket/images/Recycling/20180405-155911.jpg to deeplens-blog-bucket/images/Recycling/20180405-155911.jpg\n",
      "download: s3://deeplens-blog-bucket/images/Recycling/20180405-155829.jpg to deeplens-blog-bucket/images/Recycling/20180405-155829.jpg\n",
      "download: s3://deeplens-blog-bucket/images/Recycling/20180503-155729.jpg to deeplens-blog-bucket/images/Recycling/20180503-155729.jpg\n",
      "download: s3://deeplens-blog-bucket/images/Recycling/20180405-155935.jpg to deeplens-blog-bucket/images/Recycling/20180405-155935.jpg\n",
      "download: s3://deeplens-blog-bucket/images/Recycling/20180503-155715.jpg to deeplens-blog-bucket/images/Recycling/20180503-155715.jpg\n",
      "download: s3://deeplens-blog-bucket/images/Recycling/20180503-155808.jpg to deeplens-blog-bucket/images/Recycling/20180503-155808.jpg\n",
      "download: s3://deeplens-blog-bucket/images/Recycling/20180503-155752.jpg to deeplens-blog-bucket/images/Recycling/20180503-155752.jpg\n",
      "download: s3://deeplens-blog-bucket/images/Recycling/20180503-155922.jpg to deeplens-blog-bucket/images/Recycling/20180503-155922.jpg\n",
      "download: s3://deeplens-blog-bucket/images/Recycling/20180503-155910.jpg to deeplens-blog-bucket/images/Recycling/20180503-155910.jpg\n",
      "download: s3://deeplens-blog-bucket/images/Recycling/20180503-155826.jpg to deeplens-blog-bucket/images/Recycling/20180503-155826.jpg\n",
      "download: s3://deeplens-blog-bucket/images/Recycling/20180404-151725.jpg to deeplens-blog-bucket/images/Recycling/20180404-151725.jpg\n",
      "download: s3://deeplens-blog-bucket/images/Recycling/20180503-155948.jpg to deeplens-blog-bucket/images/Recycling/20180503-155948.jpg\n",
      "download: s3://deeplens-blog-bucket/images/Recycling/20180503-155859.jpg to deeplens-blog-bucket/images/Recycling/20180503-155859.jpg\n",
      "download: s3://deeplens-blog-bucket/images/Recycling/20180503-155937.jpg to deeplens-blog-bucket/images/Recycling/20180503-155937.jpg\n",
      "download: s3://deeplens-blog-bucket/images/Recycling/20180503-155840.jpg to deeplens-blog-bucket/images/Recycling/20180503-155840.jpg\n",
      "download: s3://deeplens-blog-bucket/images/Recycling/20180503-155958.jpg to deeplens-blog-bucket/images/Recycling/20180503-155958.jpg\n",
      "download: s3://deeplens-blog-bucket/images/Recycling/20180503-160020.jpg to deeplens-blog-bucket/images/Recycling/20180503-160020.jpg\n",
      "download: s3://deeplens-blog-bucket/images/Recycling/20180503-160035.jpg to deeplens-blog-bucket/images/Recycling/20180503-160035.jpg\n",
      "download: s3://deeplens-blog-bucket/images/Recycling/20180503-160100.jpg to deeplens-blog-bucket/images/Recycling/20180503-160100.jpg\n",
      "download: s3://deeplens-blog-bucket/images/Recycling/20180503-160049.jpg to deeplens-blog-bucket/images/Recycling/20180503-160049.jpg\n",
      "download: s3://deeplens-blog-bucket/images/Recycling/20180503-160138.jpg to deeplens-blog-bucket/images/Recycling/20180503-160138.jpg\n",
      "download: s3://deeplens-blog-bucket/images/Recycling/20180503-160211.jpg to deeplens-blog-bucket/images/Recycling/20180503-160211.jpg\n",
      "download: s3://deeplens-blog-bucket/images/Recycling/20180503-160225.jpg to deeplens-blog-bucket/images/Recycling/20180503-160225.jpg\n",
      "download: s3://deeplens-blog-bucket/images/Recycling/20180503-160118.jpg to deeplens-blog-bucket/images/Recycling/20180503-160118.jpg\n",
      "download: s3://deeplens-blog-bucket/images/Recycling/20180503-160240.jpg to deeplens-blog-bucket/images/Recycling/20180503-160240.jpg\n",
      "download: s3://deeplens-blog-bucket/images/Recycling/20180503-160202.jpg to deeplens-blog-bucket/images/Recycling/20180503-160202.jpg\n",
      "download: s3://deeplens-blog-bucket/images/Recycling/20180503-160149.jpg to deeplens-blog-bucket/images/Recycling/20180503-160149.jpg\n",
      "download: s3://deeplens-blog-bucket/images/Recycling/20180503-160311.jpg to deeplens-blog-bucket/images/Recycling/20180503-160311.jpg\n",
      "download: s3://deeplens-blog-bucket/images/Recycling/20180503-160256.jpg to deeplens-blog-bucket/images/Recycling/20180503-160256.jpg\n",
      "download: s3://deeplens-blog-bucket/images/Recycling/20180503-160329.jpg to deeplens-blog-bucket/images/Recycling/20180503-160329.jpg\n",
      "download: s3://deeplens-blog-bucket/images/Recycling/20180503-160345.jpg to deeplens-blog-bucket/images/Recycling/20180503-160345.jpg\n",
      "download: s3://deeplens-blog-bucket/images/Recycling/20180503-160448.jpg to deeplens-blog-bucket/images/Recycling/20180503-160448.jpg\n",
      "download: s3://deeplens-blog-bucket/images/Recycling/20180503-160407.jpg to deeplens-blog-bucket/images/Recycling/20180503-160407.jpg\n",
      "download: s3://deeplens-blog-bucket/images/Recycling/20180503-160511.jpg to deeplens-blog-bucket/images/Recycling/20180503-160511.jpg\n",
      "download: s3://deeplens-blog-bucket/images/Recycling/20180503-160424.jpg to deeplens-blog-bucket/images/Recycling/20180503-160424.jpg\n",
      "download: s3://deeplens-blog-bucket/images/Recycling/20180503-160559.jpg to deeplens-blog-bucket/images/Recycling/20180503-160559.jpg\n",
      "download: s3://deeplens-blog-bucket/images/Recycling/20180503-160627.jpg to deeplens-blog-bucket/images/Recycling/20180503-160627.jpg\n",
      "download: s3://deeplens-blog-bucket/images/Recycling/20180503-160526.jpg to deeplens-blog-bucket/images/Recycling/20180503-160526.jpg\n",
      "download: s3://deeplens-blog-bucket/images/Recycling/20180503-160743.jpg to deeplens-blog-bucket/images/Recycling/20180503-160743.jpg\n",
      "download: s3://deeplens-blog-bucket/images/Recycling/20180503-160639.jpg to deeplens-blog-bucket/images/Recycling/20180503-160639.jpg\n",
      "download: s3://deeplens-blog-bucket/images/Recycling/20180503-160613.jpg to deeplens-blog-bucket/images/Recycling/20180503-160613.jpg\n",
      "download: s3://deeplens-blog-bucket/images/Recycling/20180503-160656.jpg to deeplens-blog-bucket/images/Recycling/20180503-160656.jpg\n",
      "download: s3://deeplens-blog-bucket/images/Recycling/20180503-160808.jpg to deeplens-blog-bucket/images/Recycling/20180503-160808.jpg\n",
      "download: s3://deeplens-blog-bucket/images/Recycling/20180503-160941.jpg to deeplens-blog-bucket/images/Recycling/20180503-160941.jpg\n",
      "download: s3://deeplens-blog-bucket/images/Recycling/20180503-160919.jpg to deeplens-blog-bucket/images/Recycling/20180503-160919.jpg\n",
      "download: s3://deeplens-blog-bucket/images/Recycling/20180503-160715.jpg to deeplens-blog-bucket/images/Recycling/20180503-160715.jpg\n",
      "download: s3://deeplens-blog-bucket/images/Recycling/20180503-160902.jpg to deeplens-blog-bucket/images/Recycling/20180503-160902.jpg\n",
      "download: s3://deeplens-blog-bucket/images/Recycling/20180503-160955.jpg to deeplens-blog-bucket/images/Recycling/20180503-160955.jpg\n",
      "download: s3://deeplens-blog-bucket/images/Recycling/20180503-161029.jpg to deeplens-blog-bucket/images/Recycling/20180503-161029.jpg\n",
      "download: s3://deeplens-blog-bucket/images/Recycling/20180503-161009.jpg to deeplens-blog-bucket/images/Recycling/20180503-161009.jpg\n",
      "download: s3://deeplens-blog-bucket/images/Recycling/20180503-160729.jpg to deeplens-blog-bucket/images/Recycling/20180503-160729.jpg\n",
      "download: s3://deeplens-blog-bucket/images/Recycling/20180503-161131.jpg to deeplens-blog-bucket/images/Recycling/20180503-161131.jpg\n",
      "download: s3://deeplens-blog-bucket/images/Recycling/20180503-161120.jpg to deeplens-blog-bucket/images/Recycling/20180503-161120.jpg\n",
      "download: s3://deeplens-blog-bucket/images/Recycling/20180503-161145.jpg to deeplens-blog-bucket/images/Recycling/20180503-161145.jpg\n",
      "download: s3://deeplens-blog-bucket/images/Recycling/20180503-161104.jpg to deeplens-blog-bucket/images/Recycling/20180503-161104.jpg\n",
      "download: s3://deeplens-blog-bucket/images/Recycling/20180503-161206.jpg to deeplens-blog-bucket/images/Recycling/20180503-161206.jpg\n",
      "download: s3://deeplens-blog-bucket/images/Recycling/20180503-161307.jpg to deeplens-blog-bucket/images/Recycling/20180503-161307.jpg\n",
      "download: s3://deeplens-blog-bucket/images/Recycling/20180503-161218.jpg to deeplens-blog-bucket/images/Recycling/20180503-161218.jpg\n",
      "download: s3://deeplens-blog-bucket/images/Recycling/20180503-161241.jpg to deeplens-blog-bucket/images/Recycling/20180503-161241.jpg\n",
      "download: s3://deeplens-blog-bucket/images/Recycling/20180503-160757.jpg to deeplens-blog-bucket/images/Recycling/20180503-160757.jpg\n",
      "download: s3://deeplens-blog-bucket/images/Recycling/20180503-161321.jpg to deeplens-blog-bucket/images/Recycling/20180503-161321.jpg\n",
      "download: s3://deeplens-blog-bucket/images/Recycling/20180503-161228.jpg to deeplens-blog-bucket/images/Recycling/20180503-161228.jpg\n",
      "download: s3://deeplens-blog-bucket/images/Recycling/20180503-161441.jpg to deeplens-blog-bucket/images/Recycling/20180503-161441.jpg\n",
      "download: s3://deeplens-blog-bucket/images/Recycling/20180503-161514.jpg to deeplens-blog-bucket/images/Recycling/20180503-161514.jpg\n",
      "download: s3://deeplens-blog-bucket/images/Recycling/20180503-161459.jpg to deeplens-blog-bucket/images/Recycling/20180503-161459.jpg\n",
      "download: s3://deeplens-blog-bucket/images/Recycling/20180503-161609.jpg to deeplens-blog-bucket/images/Recycling/20180503-161609.jpg\n",
      "download: s3://deeplens-blog-bucket/images/Recycling/20180503-161543.jpg to deeplens-blog-bucket/images/Recycling/20180503-161543.jpg\n",
      "download: s3://deeplens-blog-bucket/images/Recycling/20180503-161619.jpg to deeplens-blog-bucket/images/Recycling/20180503-161619.jpg\n",
      "download: s3://deeplens-blog-bucket/images/Recycling/20180503-161722.jpg to deeplens-blog-bucket/images/Recycling/20180503-161722.jpg\n",
      "download: s3://deeplens-blog-bucket/images/Recycling/20180503-161735.jpg to deeplens-blog-bucket/images/Recycling/20180503-161735.jpg\n",
      "download: s3://deeplens-blog-bucket/images/Recycling/20180503-161646.jpg to deeplens-blog-bucket/images/Recycling/20180503-161646.jpg\n",
      "download: s3://deeplens-blog-bucket/images/Recycling/20180503-161659.jpg to deeplens-blog-bucket/images/Recycling/20180503-161659.jpg\n",
      "download: s3://deeplens-blog-bucket/images/Recycling/20180503-161633.jpg to deeplens-blog-bucket/images/Recycling/20180503-161633.jpg\n",
      "download: s3://deeplens-blog-bucket/images/Recycling/20180503-161529.jpg to deeplens-blog-bucket/images/Recycling/20180503-161529.jpg\n",
      "download: s3://deeplens-blog-bucket/images/Recycling/20180503-161746.jpg to deeplens-blog-bucket/images/Recycling/20180503-161746.jpg\n",
      "download: s3://deeplens-blog-bucket/images/Recycling/20180503-161924.jpg to deeplens-blog-bucket/images/Recycling/20180503-161924.jpg\n",
      "download: s3://deeplens-blog-bucket/images/Recycling/20180503-161814.jpg to deeplens-blog-bucket/images/Recycling/20180503-161814.jpg\n",
      "download: s3://deeplens-blog-bucket/images/Recycling/20180503-161827.jpg to deeplens-blog-bucket/images/Recycling/20180503-161827.jpg\n",
      "download: s3://deeplens-blog-bucket/images/Recycling/20180503-161841.jpg to deeplens-blog-bucket/images/Recycling/20180503-161841.jpg\n",
      "download: s3://deeplens-blog-bucket/images/Recycling/20180503-161936.jpg to deeplens-blog-bucket/images/Recycling/20180503-161936.jpg\n"
     ]
    }
   ],
   "source": [
    "!mkdir deeplens-blog-bucket\n",
    "!aws s3 cp --recursive s3://deeplens-blog-bucket deeplens-blog-bucket"
   ]
  },
  {
   "cell_type": "markdown",
   "metadata": {},
   "source": [
    "Ensure that the newly created directories containing the downloaded data are structured as shown at the beginning of this tutorial."
   ]
  },
  {
   "cell_type": "markdown",
   "metadata": {},
   "source": [
    "####  Find MXNet package path, and save this path as a variable"
   ]
  },
  {
   "cell_type": "code",
   "execution_count": 3,
   "metadata": {},
   "outputs": [
    {
     "name": "stdout",
     "output_type": "stream",
     "text": [
      "/home/ec2-user/anaconda3/envs/mxnet_p36/lib/python3.6/site-packages/mxnet\n"
     ]
    }
   ],
   "source": [
    "import mxnet as mx\n",
    "mxnet_path = mx.__file__[ : mx.__file__.rfind('/')]\n",
    "print(mxnet_path)"
   ]
  },
  {
   "cell_type": "markdown",
   "metadata": {},
   "source": [
    "#### Prepare \"list\" files with train-val split\n",
    "\n",
    "To be able to create the .rec files, we first need to split the data into training and validation sets (after shuffling) and create two list files for each. Here our split is 70-30 (specified by the `0.7` parameter below). `processed_rec` is the prefix we attach to the output `.rec` files, and `deeplens-blog-bucket/images` refers to the directory containing the images with each class as a subdirectory. This step also assigns (non-negative) integers to each class label."
   ]
  },
  {
   "cell_type": "code",
   "execution_count": 4,
   "metadata": {},
   "outputs": [
    {
     "name": "stdout",
     "output_type": "stream",
     "text": [
      "Compost 0\r\n",
      "Landfill 1\r\n",
      "Recycling 2\r\n"
     ]
    }
   ],
   "source": [
    "!python $mxnet_path/tools/im2rec.py --list --recursive --train-ratio 0.7 processed_rec deeplens-blog-bucket/images"
   ]
  },
  {
   "cell_type": "markdown",
   "metadata": {},
   "source": [
    "In the Jupyter directory navigation pane, you should be able to see two new files in the directory where this Jupyter notebook exists: `processed_rec_train.lst`, `processed_rec_val.lst`."
   ]
  },
  {
   "cell_type": "markdown",
   "metadata": {},
   "source": [
    "#### Prepare RecordIO files"
   ]
  },
  {
   "cell_type": "markdown",
   "metadata": {},
   "source": [
    "The .rec files can now be prepared. The images are resized such that the shorter edge has a length of `240px`. Some other parameters are passed in, which are explained [here](https://github.com/apache/incubator-mxnet/blob/d2a856a3a2abb4e72edc301b8b821f0b75f30722/tools/im2rec.py#L206).\n",
    "\n",
    "Note that the `processed_rec` and `deeplens-blog-bucket` parameters are similar to the previous step."
   ]
  },
  {
   "cell_type": "code",
   "execution_count": 5,
   "metadata": {},
   "outputs": [
    {
     "name": "stdout",
     "output_type": "stream",
     "text": [
      "Creating .rec file from /home/ec2-user/SageMaker/processed_rec_train.lst in /home/ec2-user/SageMaker\n",
      "time: 0.9254565238952637  count: 0\n",
      "Creating .rec file from /home/ec2-user/SageMaker/processed_rec_val.lst in /home/ec2-user/SageMaker\n",
      "time: 0.31188416481018066  count: 0\n"
     ]
    }
   ],
   "source": [
    "!python $mxnet_path/tools/im2rec.py --resize 240 --quality 95 --num-thread 16 processed_rec deeplens-blog-bucket/images"
   ]
  },
  {
   "cell_type": "markdown",
   "metadata": {},
   "source": [
    "You should be able to see four new files in the directory where this Jupyter notebook exists (viewable via the Jupyter directory navigation pane): `processed_rec_train.idx`, `processed_rec_val.idx`, `processed_rec_train.rec`, and `processed_rec_val.rec`."
   ]
  },
  {
   "cell_type": "markdown",
   "metadata": {},
   "source": [
    "#### Save RecordIO files to S3\n",
    "\n",
    "Of the above, `processed_rec_train.rec` and `processed_rec_val.rec` will need to saved in an S3 location to be able to train the SageMaker model. "
   ]
  },
  {
   "cell_type": "code",
   "execution_count": 6,
   "metadata": {
    "collapsed": true
   },
   "outputs": [],
   "source": [
    "def save_to_s3(file_name):\n",
    "    assert 'train' in file_name or 'val' in file_name, \"Unable to determine if train or val\"\n",
    "    s3 = boto3.resource('s3')\n",
    "    data = open(file_name, \"rb\")\n",
    "    if 'train' in file_name:\n",
    "        prefix = 'train/'\n",
    "    elif 'val' in file_name:\n",
    "        prefix = 'val/'\n",
    "    key = 'rec_files/' + prefix + file_name\n",
    "    s3.Bucket(bucket).put_object(Key=key, Body=data)"
   ]
  },
  {
   "cell_type": "code",
   "execution_count": 7,
   "metadata": {
    "collapsed": true
   },
   "outputs": [],
   "source": [
    "rec_file_list = ['processed_rec_train.rec', 'processed_rec_val.rec']\n",
    "bucket = 'deeplens-blog-bucket'\n",
    "\n",
    "for f in rec_file_list:\n",
    "    save_to_s3(f)"
   ]
  },
  {
   "cell_type": "markdown",
   "metadata": {},
   "source": [
    "#### Retrieve image dimensions\n",
    "\n",
    "As part of the model building phase, the input image dimensions will need to be known. The shorter edge was a user-specified input above (240). The longer edge's length may be retrieved by checking the dimensions of any sample in the dataset.\n",
    "\n",
    "Note: it is assumed that all images have equal dimensions."
   ]
  },
  {
   "cell_type": "code",
   "execution_count": 8,
   "metadata": {},
   "outputs": [
    {
     "name": "stdout",
     "output_type": "stream",
     "text": [
      "3,240,424\n"
     ]
    }
   ],
   "source": [
    "record = mx.recordio.MXRecordIO('processed_rec_train.rec', 'r')\n",
    "item = record.read()\n",
    "_, img = mx.recordio.unpack_img(item)\n",
    "img_shape_str = (',').join([str(img.shape[2]), str(img.shape[0]), str(img.shape[1])])\n",
    "print(img_shape_str)"
   ]
  },
  {
   "cell_type": "markdown",
   "metadata": {},
   "source": [
    "#### Retrieve dataset size"
   ]
  },
  {
   "cell_type": "markdown",
   "metadata": {},
   "source": [
    "The size of the dataset will also need to be known."
   ]
  },
  {
   "cell_type": "code",
   "execution_count": 9,
   "metadata": {},
   "outputs": [
    {
     "name": "stdout",
     "output_type": "stream",
     "text": [
      "train_samples: 384\n",
      "val_samples: 165\n"
     ]
    }
   ],
   "source": [
    "train_records = mx.recordio.MXIndexedRecordIO('processed_rec_train.idx', 'processed_rec_train.rec', 'r')\n",
    "train_samples = len(train_records.__dict__['idx'])\n",
    "val_records = mx.recordio.MXIndexedRecordIO('processed_rec_val.idx', 'processed_rec_val.rec', 'r')\n",
    "val_samples = len(val_records.__dict__['idx'])\n",
    "print('train_samples:', train_samples)\n",
    "print('val_samples:', val_samples)"
   ]
  },
  {
   "cell_type": "markdown",
   "metadata": {},
   "source": [
    "This marks the end of the data preparation phase."
   ]
  },
  {
   "cell_type": "markdown",
   "metadata": {},
   "source": [
    "# Part 2: Model building and training"
   ]
  },
  {
   "cell_type": "markdown",
   "metadata": {},
   "source": [
    "#### This section has been adapted from the [AWS Machine Learning Blog](https://aws.amazon.com/blogs/machine-learning/build-your-own-object-classification-model-in-sagemaker-and-import-it-to-deeplens/) "
   ]
  },
  {
   "cell_type": "markdown",
   "metadata": {},
   "source": [
    "#### Import relevant modules"
   ]
  },
  {
   "cell_type": "code",
   "execution_count": 10,
   "metadata": {},
   "outputs": [
    {
     "name": "stdout",
     "output_type": "stream",
     "text": [
      "CPU times: user 977 ms, sys: 56.5 ms, total: 1.03 s\n",
      "Wall time: 6.95 s\n"
     ]
    }
   ],
   "source": [
    "%%time\n",
    "import re\n",
    "from sagemaker import get_execution_role\n",
    "import time\n",
    "from time import gmtime, strftime\n",
    "%matplotlib inline"
   ]
  },
  {
   "cell_type": "markdown",
   "metadata": {},
   "source": [
    "#### Import SageMaker execution role"
   ]
  },
  {
   "cell_type": "code",
   "execution_count": 11,
   "metadata": {
    "collapsed": true
   },
   "outputs": [],
   "source": [
    "role = get_execution_role()"
   ]
  },
  {
   "cell_type": "markdown",
   "metadata": {},
   "source": [
    "#### 3.\tDefine docker containers and select the relevant training image based on your region"
   ]
  },
  {
   "cell_type": "code",
   "execution_count": 12,
   "metadata": {},
   "outputs": [
    {
     "name": "stdout",
     "output_type": "stream",
     "text": [
      "811284229777.dkr.ecr.us-east-1.amazonaws.com/image-classification:latest\n"
     ]
    }
   ],
   "source": [
    "containers = {'us-west-2': '433757028032.dkr.ecr.us-west-2.amazonaws.com/image-classification:latest',\n",
    "              'us-east-1': '811284229777.dkr.ecr.us-east-1.amazonaws.com/image-classification:latest',\n",
    "              'us-east-2': '825641698319.dkr.ecr.us-east-2.amazonaws.com/image-classification:latest',\n",
    "              'eu-west-1': '685385470294.dkr.ecr.eu-west-1.amazonaws.com/image-classification:latest'}\n",
    "training_image = containers[boto3.Session().region_name]\n",
    "print(training_image)"
   ]
  },
  {
   "cell_type": "markdown",
   "metadata": {},
   "source": [
    "#### Define dataset parameters\n",
    "\n",
    "Other than `train_samples` and `img_shape_str` above, a few more dataset parameters have to be specified."
   ]
  },
  {
   "cell_type": "code",
   "execution_count": 14,
   "metadata": {
    "collapsed": true
   },
   "outputs": [],
   "source": [
    "num_classes = 3\n",
    "mini_batch_size =  14"
   ]
  },
  {
   "cell_type": "markdown",
   "metadata": {},
   "source": [
    "#### Define model and training parameters\n",
    "\n",
    "The model used is the Resnet-18 model, and therefore `num_layers = 18`. Since this model is known to have good parameters, it helps to start with  these parameters and fine-tune them further for the new classification task. For this reason, `use_pretrained_model = 1`."
   ]
  },
  {
   "cell_type": "code",
   "execution_count": 15,
   "metadata": {
    "collapsed": true
   },
   "outputs": [],
   "source": [
    "num_layers = 18\n",
    "mini_batch_size =  14\n",
    "epochs = 10\n",
    "learning_rate = 0.01\n",
    "use_pretrained_model = 1"
   ]
  },
  {
   "cell_type": "markdown",
   "metadata": {},
   "source": [
    "#### Define job name"
   ]
  },
  {
   "cell_type": "code",
   "execution_count": 16,
   "metadata": {},
   "outputs": [
    {
     "name": "stdout",
     "output_type": "stream",
     "text": [
      "sbyt-deeplens-blog-2019-04-06-22-17-16\n"
     ]
    }
   ],
   "source": [
    "job_name_prefix = 'sbyt-deeplens-blog'\n",
    "timestamp = time.strftime('-%Y-%m-%d-%H-%M-%S', time.gmtime())\n",
    "job_name = job_name_prefix + timestamp\n",
    "print(job_name)"
   ]
  },
  {
   "cell_type": "markdown",
   "metadata": {},
   "source": [
    "#### Define SageMaker params\n",
    "\n",
    "A number of parameters are passed in to SageMaker to create and train the model. Several of these are those defined in the steps above."
   ]
  },
  {
   "cell_type": "code",
   "execution_count": 17,
   "metadata": {},
   "outputs": [
    {
     "name": "stdout",
     "output_type": "stream",
     "text": [
      "Training job name: sbyt-deeplens-blog-2019-04-06-22-17-16\n",
      "\n",
      "Input Data Location: {'S3DataType': 'S3Prefix', 'S3Uri': 's3://deeplens-blog-bucket/rec_files/train/', 'S3DataDistributionType': 'FullyReplicated'}\n"
     ]
    }
   ],
   "source": [
    "training_params = \\\n",
    "{\n",
    "    # specify the training docker image\n",
    "    \"AlgorithmSpecification\": {\n",
    "        \"TrainingImage\": training_image,\n",
    "        \"TrainingInputMode\": \"File\"\n",
    "    },\n",
    "    \"RoleArn\": role,\n",
    "    \"OutputDataConfig\": {\n",
    "        \"S3OutputPath\": 's3://{}/{}/output'.format(bucket, job_name_prefix)\n",
    "    },\n",
    "    \"ResourceConfig\": {\n",
    "        \"InstanceCount\": 1,\n",
    "        \"InstanceType\": \"ml.p2.xlarge\",\n",
    "        \"VolumeSizeInGB\": 50\n",
    "    },\n",
    "    \"TrainingJobName\": job_name,\n",
    "    \"HyperParameters\": {\n",
    "        \"image_shape\": img_shape_str,\n",
    "        \"num_layers\": str(num_layers),\n",
    "        \"num_training_samples\": str(train_samples),\n",
    "        \"num_classes\": str(num_classes),\n",
    "        \"mini_batch_size\": str(mini_batch_size),\n",
    "        \"epochs\": str(epochs),\n",
    "        \"learning_rate\": str(learning_rate),\n",
    "        \"use_pretrained_model\": str(use_pretrained_model)\n",
    "    },\n",
    "    \"StoppingCondition\": {\n",
    "        \"MaxRuntimeInSeconds\": 360000\n",
    "    },\n",
    "#Training data should be inside a subdirectory called \"train\"\n",
    "#Validation data should be inside a subdirectory called \"val\"\n",
    "#The algorithm currently only supports fullyreplicated model (where data is copied onto each machine)\n",
    "    \"InputDataConfig\": [\n",
    "        {\n",
    "            \"ChannelName\": \"train\",\n",
    "            \"DataSource\": {\n",
    "                \"S3DataSource\": {\n",
    "                    \"S3DataType\": \"S3Prefix\",\n",
    "                    \"S3Uri\": 's3://{}/rec_files/train/'.format(bucket),\n",
    "                    \"S3DataDistributionType\": \"FullyReplicated\"\n",
    "                }\n",
    "            },\n",
    "            \"ContentType\": \"application/x-recordio\",\n",
    "            \"CompressionType\": \"None\"\n",
    "        },\n",
    "        {\n",
    "            \"ChannelName\": \"validation\",\n",
    "            \"DataSource\": {\n",
    "                \"S3DataSource\": {\n",
    "                    \"S3DataType\": \"S3Prefix\",\n",
    "                    \"S3Uri\": 's3://{}/rec_files/val/'.format(bucket),\n",
    "                    \"S3DataDistributionType\": \"FullyReplicated\"\n",
    "                }\n",
    "            },\n",
    "            \"ContentType\": \"application/x-recordio\",\n",
    "            \"CompressionType\": \"None\"\n",
    "        }\n",
    "    ]\n",
    "}\n",
    "print('Training job name: {}'.format(job_name))\n",
    "print('\\nInput Data Location: {}'.format(training_params['InputDataConfig'][0]['DataSource']['S3DataSource']))"
   ]
  },
  {
   "cell_type": "markdown",
   "metadata": {},
   "source": [
    "#### Create and run SageMaker job"
   ]
  },
  {
   "cell_type": "code",
   "execution_count": 18,
   "metadata": {},
   "outputs": [
    {
     "name": "stdout",
     "output_type": "stream",
     "text": [
      "Training job current status: InProgress\n",
      "Training job ended with status: Completed\n"
     ]
    }
   ],
   "source": [
    "# create the Amazon SageMaker training job\n",
    "sagemaker = boto3.client(service_name='sagemaker')\n",
    "sagemaker.create_training_job(**training_params)\n",
    "\n",
    "# confirm that the training job has started\n",
    "status = sagemaker.describe_training_job(TrainingJobName=job_name)['TrainingJobStatus']\n",
    "print('Training job current status: {}'.format(status))\n",
    "\n",
    "try:\n",
    "    # wait for the job to finish and report final status\n",
    "    sagemaker.get_waiter('training_job_completed_or_stopped').wait(TrainingJobName=job_name)\n",
    "    training_info = sagemaker.describe_training_job(TrainingJobName=job_name)\n",
    "    status = training_info['TrainingJobStatus']\n",
    "    print(\"Training job ended with status: \" + status)\n",
    "except:\n",
    "    print('Training failed to start')\n",
    "     # if an exception is raised, this implies that the job has failed\n",
    "    message = sagemaker.describe_training_job(TrainingJobName=job_name)['FailureReason']\n",
    "    print('Training failed with the following error: {}'.format(message))"
   ]
  },
  {
   "cell_type": "markdown",
   "metadata": {},
   "source": [
    "#### Training completion status and accuracy can be viewed by navigating to `Training -> Training Jobs -> job_name -> View logs` in the SageMaker console "
   ]
  },
  {
   "cell_type": "markdown",
   "metadata": {},
   "source": [
    "#### Trained model artifacts in S3\n",
    "\n",
    "The model trained above can now be found in the `s3://deeplens-blog-bucket/sbyt-deeplens-blog/output` path, and can be further used to create a SageMaker model instance that can be deployed to the DeepLens device."
   ]
  },
  {
   "cell_type": "markdown",
   "metadata": {},
   "source": [
    "This marks the end of the model building and training phase."
   ]
  }
 ],
 "metadata": {
  "kernelspec": {
   "display_name": "Python 3",
   "language": "python",
   "name": "python3"
  },
  "language_info": {
   "codemirror_mode": {
    "name": "ipython",
    "version": 3
   },
   "file_extension": ".py",
   "mimetype": "text/x-python",
   "name": "python",
   "nbconvert_exporter": "python",
   "pygments_lexer": "ipython3",
   "version": "3.6.7"
  }
 },
 "nbformat": 4,
 "nbformat_minor": 2
}
